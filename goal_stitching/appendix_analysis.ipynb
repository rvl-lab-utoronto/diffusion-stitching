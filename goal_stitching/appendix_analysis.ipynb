{
 "cells": [
  {
   "cell_type": "markdown",
   "id": "dea4bd5f",
   "metadata": {},
   "source": [
    "# Appendix Experiments"
   ]
  },
  {
   "cell_type": "markdown",
   "id": "85cfbc3e",
   "metadata": {},
   "source": [
    "## Crosshatch"
   ]
  },
  {
   "cell_type": "code",
   "execution_count": 42,
   "id": "8269329c",
   "metadata": {},
   "outputs": [
    {
     "data": {
      "text/plain": [
       "(array([-0.96,  0.96]),\n",
       " {'goal': array([0.96 , 0.576]),\n",
       "  'keypoints': array([-0.96 , -0.576, -0.192,  0.192,  0.576,  0.96 ])})"
      ]
     },
     "execution_count": 42,
     "metadata": {},
     "output_type": "execute_result"
    }
   ],
   "source": [
    "# imports, parameters, environment, etc.\n",
    "import torch\n",
    "import torch.nn as nn\n",
    "from utilities.ogbench_utilities import *\n",
    "from diffusion_planner import DiffusionPlannerConfig\n",
    "from diffusion_planner import eval_model as diffusion_planer_eval\n",
    "from utilities.cleandiffuser.invdynamic import MlpInvDynamic\n",
    "from utilities.cleandiffuser.diffusion import ContinuousDiffusionSDE\n",
    "from utilities.cleandiffuser.diffusion import DiscreteDiffusionSDE\n",
    "from utilities.cleandiffuser.nn_diffusion import JannerUNet1d,CNN1dShiftEq,ConvNext1dShiftEq\n",
    "from utilities.cleandiffuser.nn_condition import MLPCondition\n",
    "from utilities.cleandiffuser.classifier import CumRewClassifier\n",
    "from utilities.cleandiffuser.nn_classifier import HalfJannerUNet1d\n",
    "from utilities.gridland_environment import *\n",
    "from utilities.toy_env_utilities import ToyEnvInvDyn\n",
    "import matplotlib.pyplot as plt\n",
    "from matplotlib import colormaps\n",
    "plt.rcParams[\"font.family\"] = \"Times New Roman\"\n",
    "\n",
    "# start and end goal     # 2,0 -> 2,5 should be a novel S-A pair\n",
    "start_idx = (0,5)\n",
    "goal_idx = (5,4)\n",
    "\n",
    "\n",
    "#(2, 0) (2, 5)\n",
    "env = 'gridland'\n",
    "n_size = 5\n",
    "memory = 1\n",
    "horizon = 512 # for generation so must be power of 2\n",
    "num_envs = 1\n",
    "num_episodes = 1\n",
    "temperature = 0.5\n",
    "n_exec_steps = 512\n",
    "render = True\n",
    "goal_inpaint_steps = 25\n",
    "\n",
    "# gets the set of trajectories from the training data \n",
    "import numpy as np \n",
    "from utilities.gridland_environment import *\n",
    "from utilities.ogbench_utilities import GCSequenceDataset\n",
    "config = DiffusionPlannerConfig()\n",
    "config.horizon = 500\n",
    "config.gen_horizon = 512\n",
    "config.goal_sample_gamma = 0.99\n",
    "config.allow_partial_subsamples = False\n",
    "config.goal_padding = False\n",
    "envs, dataset, _ = make_envs_and_datasets_gridland(n_size=5,num_envs = config.num_envs,goal_cond=True)\n",
    "env = GridLand(n_size=5,timeout = 500)\n",
    " \n",
    "env.reset(start_idx=start_idx,goal_idx=goal_idx)"
   ]
  },
  {
   "cell_type": "code",
   "execution_count": 43,
   "id": "460228d8",
   "metadata": {},
   "outputs": [
    {
     "name": "stdout",
     "output_type": "stream",
     "text": [
      "==== Environment Info ====\n",
      "Name: <GridLand instance>\n",
      "Obs Space: 2\n",
      "Act Space: 2\n",
      "==== Running Eval ====\n"
     ]
    },
    {
     "name": "stderr",
     "output_type": "stream",
     "text": [
      "100%|██████████| 1/1 [00:05<00:00,  5.68s/it]"
     ]
    },
    {
     "name": "stdout",
     "output_type": "stream",
     "text": [
      "Avg. Completion: 0.0\n",
      "# of Training Trajectory Repeats 0\n",
      "# of Unique Generated Trajectories: 1\n",
      "# of New Generated Trajectories: 1\n",
      "% of Generated Trajectories Novel: 1.0\n",
      "# of Unique Generated Successful Trajectories: 0\n"
     ]
    },
    {
     "name": "stderr",
     "output_type": "stream",
     "text": [
      "\n"
     ]
    },
    {
     "data": {
      "image/png": "[encoded data removed]",
      "text/plain": [
       "<Figure size 600x600 with 1 Axes>"
      ]
     },
     "metadata": {},
     "output_type": "display_data"
    }
   ],
   "source": [
    "### Eq-Net, Unconditional\n",
    "# loads config, modifies to work w/given parameters\n",
    "config = DiffusionPlannerConfig()\n",
    "config.memory = memory\n",
    "config.horizon = horizon\n",
    "config.num_envs = num_envs\n",
    "config.num_episodes = num_episodes\n",
    "config.n_exec_steps = n_exec_steps\n",
    "config.env = env\n",
    "config.inpaint = True\n",
    "config.goal_inpaint_steps = goal_inpaint_steps\n",
    "config.gridland = True\n",
    "config.n_size = n_size\n",
    "config.pad = False\n",
    "config.gen_horizon = 512\n",
    "config.toy_env = True\n",
    "config.open_loop_invdyn = False\n",
    "config.guidance = 'none'\n",
    "config.goal_sample_dist = 'end'\n",
    "config.use_shift_equivariant_arch = True\n",
    "config.add_positional_encoding = False\n",
    "\n",
    "\n",
    "# loads environment\n",
    "envs = make_envs_and_datasets_gridland(n_size=config.n_size,num_envs = config.num_envs,env_only=True)\n",
    "obs_dim, act_dim = envs.single_observation_space.shape[0], envs.single_action_space.shape[0]\n",
    "if config.use_shift_equivariant_arch:\n",
    "        #nn_diffusion = ConvNext1dShiftEq(obs_dim)\n",
    "        nn_diffusion = CNN1dShiftEq(obs_dim,\n",
    "                                    kernel_expansion_rate=config.kernel_expansion_rate,\n",
    "                                    model_dim = config.model_dim,\n",
    "                                    emb_dim = config.emb_dim,\n",
    "                                    encode_position=config.add_positional_encoding)\n",
    "else:\n",
    "        nn_diffusion = JannerUNet1d(\n",
    "        obs_dim, model_dim=config.model_dim, emb_dim=config.model_dim, dim_mult=[1, 2, 2, 2],\n",
    "        timestep_emb_type=\"positional\", attention=config.self_attention, kernel_size=5,\n",
    "        use_timestep_emb=config.use_timestep_embeddings)\n",
    "\n",
    "# creates classifier network if needed\n",
    "if 'classifier' in config.guidance:\n",
    "        nn_classifier = HalfJannerUNet1d(\n",
    "        config.gen_horizon, obs_dim + act_dim, out_dim=1,\n",
    "        model_dim=config.model_dim, emb_dim=config.model_dim, dim_mult=config.task.dim_mult,\n",
    "        timestep_emb_type=\"positional\", kernel_size=3)\n",
    "        classifier = CumRewClassifier(nn_classifier, device=config.device)\n",
    "else:\n",
    "        classifier = None\n",
    "# creates condition network if needed (when using classifier-free guidance)\n",
    "if 'cfg' in config.guidance:\n",
    "        nn_condition = MLPCondition(\n",
    "        in_dim=obs_dim, out_dim=config.emb_dim, hidden_dims=[config.emb_dim, ], act=nn.SiLU(), dropout=config.label_dropout)\n",
    "else:\n",
    "        nn_condition = None\n",
    "# ----------------- Masking ------------------- # some changes to remove gen. over actions\n",
    "# fix_mask that tells Diffusion model what parts of sequence to ignore during training\n",
    "# and which parts to inpaint with a prior during sampling. We'll only mask the first\n",
    "# state now (which should never be getting predicted from random)\n",
    "# but all others we keep during training, and then modify later during sampling.\n",
    "fix_mask = torch.zeros((config.gen_horizon, obs_dim)) \n",
    "fix_mask[0, :] = 1. # for the starting/current state\n",
    "loss_weight = torch.ones((config.gen_horizon, obs_dim))\n",
    "\n",
    "# --------------- Diffusion Model --------------------\n",
    "agent = DiscreteDiffusionSDE(\n",
    "        nn_diffusion = nn_diffusion, \n",
    "        nn_condition = nn_condition,\n",
    "        classifier = classifier, \n",
    "        fix_mask=fix_mask, \n",
    "        loss_weight=loss_weight, \n",
    "        ema_rate=config.ema_rate,\n",
    "        device=config.device,\n",
    "        diffusion_steps=config.diffusion_steps, \n",
    "        predict_noise=config.predict_noise)\n",
    "\n",
    "# --------------- Inverse Dynamics --------------------\n",
    "if not config.toy_env:\n",
    "        invdyn = MlpInvDynamic(obs_dim, act_dim, 512, nn.Tanh(), {\"lr\": 2e-4}, device=config.device)\n",
    "        invdyn.load(config.invdyn_path)\n",
    "        invdyn.eval()\n",
    "else:\n",
    "        invdyn = ToyEnvInvDyn()\n",
    "#agent.load('trained_models/DP-EqNet-Uncond-gridland-n5-gc-4654c546diffusion_ckpt_latest.pt')\n",
    "#agent.load('trained_models/DP-EqNet-Uncond-Subseq-CondEnv-500k-gridland-n5-gc-988954fbdiffusion_ckpt_latest.pt')\n",
    "#agent.load('trained_models/DP-EqNet-Uncond-gridland-n5-gc-15fe4eb0diffusion_ckpt_150000.pt') # should be a quite decent model\n",
    "#agent.load('trained_models/DP-EqNet-Uncond-gridland-n5-gc-15fe4eb0diffusion_ckpt_250000.pt') # decent model at 250000\n",
    "#agent.load('trained_models/DP-EqNet-PosEnc-gridland-n5-gc-c5dec87ediffusion_ckpt_latest.pt') # v1 w/positional attention at 250000\n",
    "#agent.load('trained_models/DP-EqNet-SinPosEnc-gridland-n5-gc-9a5b6af0diffusion_ckpt_latest.pt') # v2 w/positional attention at 250000\n",
    "\n",
    "#agent.load('trained_models/DP-EqNet-Short-Sample-gridland-n5-gc-e66dc18fdiffusion_ckpt_latest.pt') # one trained on subsequences 1m steps\n",
    "\n",
    "#agent.load('trained_models/DP-UNet-pointmaze-giant-navigate-v0-6a5a1a58diffusion_ckpt_500000.pt')\n",
    "#agent.load('trained_models/DP-UNet-pointmaze-giant-navigate-v0-c0fec9bfdiffusion_ckpt_500000.pt')\n",
    "\n",
    "agent.load('appendix_models/DP-EqNet-KL-gridland-n5-69af12dadiffusion_ckpt_latest.pt')\n",
    "# Environment info \n",
    "print('==== Environment Info ====')\n",
    "print('Name:',config.env)\n",
    "print('Obs Space:',obs_dim)\n",
    "print('Act Space:',act_dim)\n",
    "# main evaluation loop\n",
    "print('==== Running Eval ====')\n",
    "envs.reset(options={'start_idx':start_idx,'goal_idx':goal_idx})\n",
    "avg_completion,trajectories, replans = diffusion_planer_eval(agent,invdyn,envs,config,give_trajectory=True,give_replans=True)\n",
    "#print(trajectories[0].shape)\n",
    "print('Avg. Completion:',avg_completion)\n",
    "env = GridLand(n_size=n_size,timeout = 500)\n",
    "env.reset(start_idx=start_idx,goal_idx=goal_idx)\n",
    "fig, ax = env.get_mpl_plot()\n",
    "#print('replans',np.array(replans).shape)\n",
    "#ax.scatter(trajectories[0][:,:,0],trajectories[0][:,:,1],c=range(len(trajectories[0])),s=5,label='Executed Trajectory')\n",
    "if num_envs == 1:\n",
    "        ax.scatter(trajectories[0][:,:,0],trajectories[0][:,:,1],c='#e68d35',s=20,label='Executed Trajectory',alpha=1,zorder=100)\n",
    "else:\n",
    "        ax.scatter(trajectories[0][:,:,0],trajectories[0][:,:,1],c='black',s=5,label='Executed Trajectory',alpha=0.05,zorder=100)\n",
    "#ax.scatter(replans[0][0,:,0],replans[0][0,:,1],c='y',s=5,label='Plan')\n",
    "#ax.scatter(trajectories[0][:,:,0],trajectories[0][:,:,1],c=range(len(trajectories[0])),s=5,label='Executed Trajectory')\n",
    "\n",
    "\n",
    "if num_envs == 1 and n_exec_steps != 512:\n",
    "        replan_colors = colormaps['plasma_r']\n",
    "        gradient = np.linspace(0, 1, len(replans[0]))\n",
    "        for i,replan in enumerate(replans[0]):\n",
    "                #print(replan.shape)\n",
    "                ax.scatter(replan[:,0],replan[:,1],color=replan_colors(gradient[i]),s=5,label='Plan' + str(i),zorder=10-i)\n",
    "\n",
    "#print(trajectories[0].shape)\n",
    "        visited_intersections,visited_intersection_idx = find_trajectory_keypoints(trajectories[0].reshape(trajectories[0].shape[0],2), env,tolerance=0.06)\n",
    "#print(visited_intersections.shape)\n",
    "        #ax.scatter(visited_intersections[:,0],visited_intersections[:,1],label='visited',color='red')\n",
    "#ax.legend()\n",
    "fig.set_dpi(100)\n",
    "\n",
    "traj_visitations = []\n",
    "trajectories = np.array(trajectories)\n",
    "trajectories = np.transpose(trajectories,(0,2,1,3))\n",
    "#print(trajectories.shape)\n",
    "reproduced_training_trajectories = 0\n",
    "for ep in trajectories:\n",
    "        for trajectory in ep:\n",
    "                #print(trajectory.shape)\n",
    "                visited_intersections, visited_intersections_idx = find_trajectory_keypoints(trajectory,env)\n",
    "                traj_visitations.append(visited_intersections_idx)\n",
    "                # stuff\n",
    "                this_trajectory_set = get_trajectory_sets([visited_intersections_idx])\n",
    "                if len(this_trajectory_set & training_trajectory_visitations) !=0:\n",
    "                        reproduced_training_trajectories += 1\n",
    "generated_trajectory_visitations = get_trajectory_sets(traj_visitations)\n",
    "filtered_trajectories = filter_successful_trajectories(generated_trajectory_visitations,goals=goal_idx)\n",
    "print('# of Training Trajectory Repeats',reproduced_training_trajectories)\n",
    "print('# of Unique Generated Trajectories:',len(generated_trajectory_visitations))\n",
    "print('# of New Generated Trajectories:', len(generated_trajectory_visitations-training_trajectory_visitations))\n",
    "print('% of Generated Trajectories Novel:', len(generated_trajectory_visitations-training_trajectory_visitations)/len(generated_trajectory_visitations))\n",
    "print('# of Unique Generated Successful Trajectories:',len(filtered_trajectories))\n",
    "#print('# of New Generated Succesful Trajectories:', len(filtered_trajectories-training_trajectory_visitations))\n",
    "#print('% of Generated Succesful Trajectories Novel:', len(filtered_trajectories-training_trajectory_visitations)/len(filtered_trajectories))\n",
    "#training_trajectory_visitations"
   ]
  },
  {
   "cell_type": "code",
   "execution_count": 44,
   "id": "efd47d6d",
   "metadata": {},
   "outputs": [
    {
     "data": {
      "image/png": "[encoded data removed]",
      "text/plain": [
       "<Figure size 600x600 with 1 Axes>"
      ]
     },
     "metadata": {},
     "output_type": "display_data"
    }
   ],
   "source": [
    "# looking at teailures\n",
    "env.reset(start_idx=start_idx,goal_idx=goal_idx)\n",
    "fig, ax = env.get_mpl_plot()\n",
    "ax.set_title('Failed Trajectory Plans')\n",
    "failed_trajectories = generated_trajectory_visitations - (filtered_trajectories | training_trajectory_visitations)\n",
    "color_index = 0\n",
    "for ep in trajectories:\n",
    "        for i,trajectory in enumerate(ep):\n",
    "                #print(trajectory.shape)\n",
    "                visited_intersections, visited_intersections_idx = find_trajectory_keypoints(trajectory,env)\n",
    "                visited_intersections_idx = get_trajectory_sets([visited_intersections_idx]).pop()\n",
    "                ax.scatter(replans[i,0,:,0],replans[i,0,:,1],color=colormaps['plasma_r'](color_index),s=5,label='Plan' + str(i),zorder=10-i)\n",
    "                        "
   ]
  },
  {
   "cell_type": "markdown",
   "id": "4c9e7f8c",
   "metadata": {},
   "source": [
    "## Memory Experiments"
   ]
  },
  {
   "cell_type": "code",
   "execution_count": 8,
   "id": "38868f67",
   "metadata": {},
   "outputs": [
    {
     "name": "stderr",
     "output_type": "stream",
     "text": [
      "Processing trajectories: 100%|██████████| 25000/25000 [00:00<00:00, 370326.58it/s]\n"
     ]
    },
    {
     "name": "stdout",
     "output_type": "stream",
     "text": [
      "(50, 500, 2)\n",
      "# of Unique Training Trajectories: 42\n",
      "Total # of Env: 800\n"
     ]
    }
   ],
   "source": [
    "# imports, parameters, environment, etc.\n",
    "import torch\n",
    "import torch.nn as nn\n",
    "from utilities.ogbench_utilities import *\n",
    "from diffusion_planner import DiffusionPlannerConfig\n",
    "from diffusion_planner import eval_model as diffusion_planer_eval\n",
    "from utilities.cleandiffuser.invdynamic import MlpInvDynamic\n",
    "from utilities.cleandiffuser.diffusion import ContinuousDiffusionSDE\n",
    "from utilities.cleandiffuser.diffusion import DiscreteDiffusionSDE\n",
    "from utilities.cleandiffuser.nn_diffusion import JannerUNet1d,CNN1dShiftEq,ConvNext1dShiftEq\n",
    "from utilities.cleandiffuser.nn_condition import MLPCondition\n",
    "from utilities.gridland_environment import *\n",
    "from utilities.toy_env_utilities import ToyEnvInvDyn\n",
    "import matplotlib.pyplot as plt\n",
    "from matplotlib import colormaps\n",
    "env = 'gridland'\n",
    "n_size = 5\n",
    "memory = 1\n",
    "horizon = 512 # for generation so must be power of 2\n",
    "num_envs = 100\n",
    "num_samples = 8\n",
    "num_episodes = 1 # try not to change this i haven't validated it works and suspect heavily that it does not \n",
    "temperature = 0.5\n",
    "n_exec_steps = 50\n",
    "render = True\n",
    "visualize = False\n",
    "# gets the set of trajectories from the training data \n",
    "import numpy as np \n",
    "from utilities.gridland_environment import *\n",
    "from utilities.ogbench_utilities import GCSequenceDataset\n",
    "config = DiffusionPlannerConfig()\n",
    "config.horizon = 500\n",
    "config.gen_horizon = 512\n",
    "config.goal_sample_gamma = 0.99\n",
    "config.allow_partial_subsamples = False\n",
    "config.goal_padding = False\n",
    "envs, dataset, _ = make_envs_and_datasets_gridland(n_size=5,num_envs = config.num_envs)\n",
    "env = GridLand(n_size=5,timeout = 500)\n",
    "env.reset()\n",
    "train_dataset = GCSequenceDataset(dataset, config) # new sequence dataset\n",
    "batch = train_dataset.sample(idxs=range(50))\n",
    "#batch = train_dataset.sample()\n",
    "print(batch['observations'].shape)\n",
    "traj_visitations = []\n",
    "for trajectory in batch['observations']:\n",
    "    visited_intersections, visited_intersections_idx = find_trajectory_keypoints(trajectory,env)\n",
    "    traj_visitations.append(visited_intersections_idx)\n",
    "    #print(trajectory)\n",
    "training_trajectory_visitations = get_trajectory_sets(traj_visitations)\n",
    "print('# of Unique Training Trajectories:',len(training_trajectory_visitations))\n",
    "print('Total # of Env:',num_envs*num_samples)"
   ]
  },
  {
   "cell_type": "code",
   "execution_count": 9,
   "id": "d5edb646",
   "metadata": {},
   "outputs": [
    {
     "name": "stderr",
     "output_type": "stream",
     "text": [
      "  0%|          | 0/7 [00:00<?, ?it/s]"
     ]
    },
    {
     "name": "stdout",
     "output_type": "stream",
     "text": [
      "==== Unconditional EqNet  ====\n",
      "Memory: 1\n",
      "Name: <GridLand instance>\n",
      "Obs Space: 2\n",
      "Act Space: 2\n",
      "==== Running Eval ====\n"
     ]
    },
    {
     "name": "stderr",
     "output_type": "stream",
     "text": [
      "100%|██████████| 1/1 [01:00<00:00, 60.42s/it]\n",
      "100%|██████████| 1/1 [01:01<00:00, 61.07s/it]\n",
      "100%|██████████| 1/1 [01:07<00:00, 67.71s/it]\n",
      "100%|██████████| 1/1 [01:01<00:00, 61.21s/it]\n",
      "100%|██████████| 1/1 [01:00<00:00, 60.86s/it]\n",
      "100%|██████████| 1/1 [01:00<00:00, 60.71s/it]\n",
      "100%|██████████| 1/1 [01:00<00:00, 60.62s/it]\n",
      "100%|██████████| 1/1 [01:01<00:00, 61.72s/it]\n"
     ]
    },
    {
     "name": "stdout",
     "output_type": "stream",
     "text": [
      "Avg. Completion: 0.99875\n"
     ]
    },
    {
     "name": "stderr",
     "output_type": "stream",
     "text": [
      " 14%|█▍        | 1/7 [08:24<50:26, 504.40s/it]"
     ]
    },
    {
     "name": "stdout",
     "output_type": "stream",
     "text": [
      "154\n",
      "# of Unique Generated Trajectories: 154\n",
      "# of New Generated Trajectories: 113\n",
      "==== Unconditional EqNet  ====\n",
      "Memory: 16\n",
      "Name: <GridLand instance>\n",
      "Obs Space: 2\n",
      "Act Space: 2\n",
      "==== Running Eval ====\n"
     ]
    },
    {
     "name": "stderr",
     "output_type": "stream",
     "text": [
      "100%|██████████| 1/1 [01:08<00:00, 68.65s/it]\n",
      "100%|██████████| 1/1 [01:08<00:00, 68.17s/it]\n",
      "100%|██████████| 1/1 [01:08<00:00, 68.69s/it]\n",
      "100%|██████████| 1/1 [01:08<00:00, 68.43s/it]\n",
      "100%|██████████| 1/1 [01:09<00:00, 69.06s/it]\n",
      "100%|██████████| 1/1 [01:09<00:00, 69.40s/it]\n",
      "100%|██████████| 1/1 [01:08<00:00, 68.80s/it]\n",
      "100%|██████████| 1/1 [01:08<00:00, 68.62s/it]\n"
     ]
    },
    {
     "name": "stdout",
     "output_type": "stream",
     "text": [
      "Avg. Completion: 0.945\n"
     ]
    },
    {
     "name": "stderr",
     "output_type": "stream",
     "text": [
      " 29%|██▊       | 2/7 [17:44<44:46, 537.37s/it]"
     ]
    },
    {
     "name": "stdout",
     "output_type": "stream",
     "text": [
      "139\n",
      "# of Unique Generated Trajectories: 139\n",
      "# of New Generated Trajectories: 101\n",
      "==== Unconditional EqNet  ====\n",
      "Memory: 32\n",
      "Name: <GridLand instance>\n",
      "Obs Space: 2\n",
      "Act Space: 2\n",
      "==== Running Eval ====\n"
     ]
    },
    {
     "name": "stderr",
     "output_type": "stream",
     "text": [
      "100%|██████████| 1/1 [01:09<00:00, 69.30s/it]\n",
      "100%|██████████| 1/1 [01:07<00:00, 67.81s/it]\n",
      "100%|██████████| 1/1 [01:08<00:00, 68.75s/it]\n",
      "100%|██████████| 1/1 [01:08<00:00, 68.45s/it]\n",
      "100%|██████████| 1/1 [01:08<00:00, 68.80s/it]\n",
      "100%|██████████| 1/1 [01:08<00:00, 68.57s/it]\n",
      "100%|██████████| 1/1 [01:07<00:00, 67.78s/it]\n",
      "100%|██████████| 1/1 [01:07<00:00, 67.89s/it]\n"
     ]
    },
    {
     "name": "stdout",
     "output_type": "stream",
     "text": [
      "Avg. Completion: 0.43125\n"
     ]
    },
    {
     "name": "stderr",
     "output_type": "stream",
     "text": [
      " 43%|████▎     | 3/7 [27:00<36:23, 545.77s/it]"
     ]
    },
    {
     "name": "stdout",
     "output_type": "stream",
     "text": [
      "116\n",
      "# of Unique Generated Trajectories: 116\n",
      "# of New Generated Trajectories: 81\n",
      "==== Unconditional EqNet  ====\n",
      "Memory: 64\n",
      "Name: <GridLand instance>\n",
      "Obs Space: 2\n",
      "Act Space: 2\n",
      "==== Running Eval ====\n"
     ]
    },
    {
     "name": "stderr",
     "output_type": "stream",
     "text": [
      "100%|██████████| 1/1 [01:08<00:00, 68.23s/it]\n",
      "100%|██████████| 1/1 [01:08<00:00, 68.56s/it]\n",
      "100%|██████████| 1/1 [01:08<00:00, 68.81s/it]\n",
      "100%|██████████| 1/1 [01:08<00:00, 68.60s/it]\n",
      "100%|██████████| 1/1 [01:10<00:00, 70.69s/it]\n",
      "100%|██████████| 1/1 [01:09<00:00, 69.39s/it]\n",
      "100%|██████████| 1/1 [01:08<00:00, 68.05s/it]\n",
      "100%|██████████| 1/1 [01:07<00:00, 67.93s/it]\n"
     ]
    },
    {
     "name": "stdout",
     "output_type": "stream",
     "text": [
      "Avg. Completion: 0.25875\n"
     ]
    },
    {
     "name": "stderr",
     "output_type": "stream",
     "text": [
      " 57%|█████▋    | 4/7 [36:19<27:32, 550.93s/it]"
     ]
    },
    {
     "name": "stdout",
     "output_type": "stream",
     "text": [
      "86\n",
      "# of Unique Generated Trajectories: 86\n",
      "# of New Generated Trajectories: 60\n",
      "==== Unconditional EqNet  ====\n",
      "Memory: 128\n",
      "Name: <GridLand instance>\n",
      "Obs Space: 2\n",
      "Act Space: 2\n",
      "==== Running Eval ====\n"
     ]
    },
    {
     "name": "stderr",
     "output_type": "stream",
     "text": [
      "100%|██████████| 1/1 [01:08<00:00, 68.96s/it]\n",
      "100%|██████████| 1/1 [01:08<00:00, 68.13s/it]\n",
      "100%|██████████| 1/1 [01:08<00:00, 68.68s/it]\n",
      "100%|██████████| 1/1 [01:08<00:00, 68.62s/it]\n",
      "100%|██████████| 1/1 [01:08<00:00, 68.29s/it]\n",
      "100%|██████████| 1/1 [01:08<00:00, 68.84s/it]\n",
      "100%|██████████| 1/1 [01:09<00:00, 69.45s/it]\n",
      "100%|██████████| 1/1 [01:08<00:00, 68.53s/it]\n"
     ]
    },
    {
     "name": "stdout",
     "output_type": "stream",
     "text": [
      "Avg. Completion: 0.27625\n"
     ]
    },
    {
     "name": "stderr",
     "output_type": "stream",
     "text": [
      " 71%|███████▏  | 5/7 [45:38<18:27, 553.88s/it]"
     ]
    },
    {
     "name": "stdout",
     "output_type": "stream",
     "text": [
      "78\n",
      "# of Unique Generated Trajectories: 78\n",
      "# of New Generated Trajectories: 51\n",
      "==== Unconditional EqNet  ====\n",
      "Memory: 256\n",
      "Name: <GridLand instance>\n",
      "Obs Space: 2\n",
      "Act Space: 2\n",
      "==== Running Eval ====\n"
     ]
    },
    {
     "name": "stderr",
     "output_type": "stream",
     "text": [
      "100%|██████████| 1/1 [01:08<00:00, 68.42s/it]\n",
      "100%|██████████| 1/1 [01:08<00:00, 68.10s/it]\n",
      "100%|██████████| 1/1 [01:08<00:00, 68.03s/it]\n",
      "100%|██████████| 1/1 [01:08<00:00, 68.87s/it]\n",
      "100%|██████████| 1/1 [01:08<00:00, 68.37s/it]\n",
      "100%|██████████| 1/1 [01:08<00:00, 68.15s/it]\n",
      "100%|██████████| 1/1 [01:07<00:00, 67.68s/it]\n",
      "100%|██████████| 1/1 [01:08<00:00, 68.10s/it]\n"
     ]
    },
    {
     "name": "stdout",
     "output_type": "stream",
     "text": [
      "Avg. Completion: 0.3925\n"
     ]
    },
    {
     "name": "stderr",
     "output_type": "stream",
     "text": [
      " 86%|████████▌ | 6/7 [54:52<09:14, 554.05s/it]"
     ]
    },
    {
     "name": "stdout",
     "output_type": "stream",
     "text": [
      "85\n",
      "# of Unique Generated Trajectories: 85\n",
      "# of New Generated Trajectories: 59\n",
      "==== Unconditional EqNet  ====\n",
      "Memory: 512\n",
      "Name: <GridLand instance>\n",
      "Obs Space: 2\n",
      "Act Space: 2\n",
      "==== Running Eval ====\n"
     ]
    },
    {
     "name": "stderr",
     "output_type": "stream",
     "text": [
      "100%|██████████| 1/1 [01:08<00:00, 68.55s/it]\n",
      "100%|██████████| 1/1 [01:09<00:00, 69.05s/it]\n",
      "100%|██████████| 1/1 [01:07<00:00, 67.98s/it]\n",
      "100%|██████████| 1/1 [01:07<00:00, 67.92s/it]\n",
      "100%|██████████| 1/1 [01:08<00:00, 68.16s/it]\n",
      "100%|██████████| 1/1 [01:08<00:00, 68.60s/it]\n",
      "100%|██████████| 1/1 [01:08<00:00, 68.44s/it]\n",
      "100%|██████████| 1/1 [01:08<00:00, 68.59s/it]\n"
     ]
    },
    {
     "name": "stdout",
     "output_type": "stream",
     "text": [
      "Avg. Completion: 0.38750000000000007\n"
     ]
    },
    {
     "name": "stderr",
     "output_type": "stream",
     "text": [
      "100%|██████████| 7/7 [1:04:09<00:00, 549.94s/it]"
     ]
    },
    {
     "name": "stdout",
     "output_type": "stream",
     "text": [
      "82\n",
      "# of Unique Generated Trajectories: 82\n",
      "# of New Generated Trajectories: 53\n"
     ]
    },
    {
     "name": "stderr",
     "output_type": "stream",
     "text": [
      "\n"
     ]
    }
   ],
   "source": [
    "### overfitting stuff u-net with aug \n",
    "memory_amounts = [1,16,32,64,128,256,512]\n",
    "for memory in tqdm(memory_amounts):\n",
    "    config = DiffusionPlannerConfig()\n",
    "    config.memory = memory\n",
    "    config.horizon = horizon\n",
    "    config.num_envs = num_envs\n",
    "    config.num_episodes = num_episodes\n",
    "    config.n_exec_steps = n_exec_steps\n",
    "    config.env = env\n",
    "    config.inpaint = False\n",
    "    config.gridland = True\n",
    "    config.n_size = n_size\n",
    "    config.pad = False\n",
    "    config.gen_horizon = horizon\n",
    "    config.toy_env = True\n",
    "    config.open_loop_invdyn = False\n",
    "    config.use_shift_equivariant_arch = False\n",
    "    config.add_positional_encoding = False\n",
    "    config.guidance = 'none'\n",
    "    config.goal_sample_dist = 'end' \n",
    "\n",
    "    # loads environment\n",
    "    envs = make_envs_and_datasets_gridland(n_size=config.n_size,num_envs = config.num_envs,env_only=True)\n",
    "    obs_dim, act_dim = envs.single_observation_space.shape[0], envs.single_action_space.shape[0]\n",
    "\n",
    "    # loads inverse dynamics\n",
    "    invdyn = ToyEnvInvDyn()\n",
    "    #invdyn.load(config.invdyn_path)\n",
    "\n",
    "    # loads agent \n",
    "    # --------------- Network Architecture -----------------# \n",
    "    #nn_diffusion = JannerUNet1dShiftEq(obs_dim)\n",
    "    #nn_diffusion = ConvNext1dShiftEq(obs_dim)\n",
    "    nn_diffusion = JannerUNet1d(\n",
    "        obs_dim, model_dim=config.model_dim, emb_dim=config.model_dim, dim_mult=[1, 2, 2, 2],\n",
    "        timestep_emb_type=\"positional\", attention=config.self_attention, kernel_size=5,\n",
    "        use_timestep_emb=config.use_timestep_embeddings)\n",
    "\n",
    "\n",
    "    # ----------------- Masking -------------------\n",
    "    # NOTE - not sure what any of this does (should figure out!)\n",
    "    fix_mask = torch.zeros((config.horizon, obs_dim)) \n",
    "    fix_mask[0, :] = 1. # for the starting/current state\n",
    "    loss_weight = torch.ones((config.horizon, obs_dim))\n",
    "\n",
    "    # --------------- difuse --------------------\n",
    "    agent = DiscreteDiffusionSDE(\n",
    "            nn_diffusion, None,\n",
    "            fix_mask=fix_mask, loss_weight=loss_weight, classifier=None, ema_rate=config.ema_rate,\n",
    "            device=config.device, diffusion_steps=config.diffusion_steps, predict_noise=config.predict_noise)\n",
    "\n",
    "\n",
    "    #agent.load('appendix_models/DP-EqNet-KL-gridland-n5-51d1744cdiffusion_ckpt_latest.pt')\n",
    "\n",
    "    #agent.load('paper_models/DP-EqNet-PosEnc-gridland-n5-1c240542diffusion_ckpt_latest.pt')\n",
    "    #agent.load('paper_models/DP-UNet-PosAug-gridland-n5-gc-e639f3f1diffusion_ckpt_latest.pt')\n",
    "    agent.load('paper_models/DP-UNet-PosAug-gridland-n5-8033f6cddiffusion_ckpt_latest.pt')\n",
    "    #agent.load('paper_models/' + model_paths[i])\n",
    "\n",
    "    # Environment info \n",
    "    print('==== Unconditional EqNet  ====')\n",
    "    print('Memory:',memory)\n",
    "    print('Name:',config.env)\n",
    "    print('Obs Space:',obs_dim)\n",
    "    print('Act Space:',act_dim)\n",
    "    # main evaluation loop\n",
    "    print('==== Running Eval ====')\n",
    "    avg_completion = 0\n",
    "    trajectories = []\n",
    "    for i in range(num_samples):\n",
    "            envs.reset()\n",
    "            avg_completion_sample,trajectories_sample, replans = diffusion_planer_eval(agent,invdyn,envs,config,give_trajectory=True,give_replans=True)\n",
    "            # pads trajectory samples to 512\n",
    "            new_trajectory_samples = []\n",
    "            for traj in trajectories_sample:\n",
    "                    new_traj = np.pad(traj,((0,501-traj.shape[0]),(0,0),(0,0)),mode='edge')\n",
    "                    #print(new_traj.shape)\n",
    "                    new_trajectory_samples.append(new_traj)\n",
    "            avg_completion += avg_completion_sample\n",
    "            trajectories += new_trajectory_samples\n",
    "    avg_completion = avg_completion / num_samples\n",
    "    print('Avg. Completion:',avg_completion)\n",
    "\n",
    "    if visualize:\n",
    "            env = GridLand(n_size=n_size,timeout = 500)\n",
    "            env.reset()\n",
    "            fig, ax = env.get_mpl_plot()\n",
    "            #print('replans',np.array(replans).shape)\n",
    "            #ax.scatter(trajectories[0][:,:,0],trajectories[0][:,:,1],c=range(len(trajectories[0])),s=5,label='Executed Trajectory')\n",
    "            if num_envs == 1:\n",
    "                    ax.scatter(trajectories[0][:,:,0],trajectories[0][:,:,1],c='black',s=5,label='Executed Trajectory',alpha=0.2,zorder=100)\n",
    "            else:\n",
    "                    ax.scatter(trajectories[0][:,:,0],trajectories[0][:,:,1],c='black',s=5,label='Executed Trajectory',alpha=0.05,zorder=100)\n",
    "            #ax.scatter(replans[0][0,:,0],replans[0][0,:,1],c='y',s=5,label='Plan')\n",
    "            #ax.scatter(trajectories[0][:,:,0],trajectories[0][:,:,1],c=range(len(trajectories[0])),s=5,label='Executed Trajectory')\n",
    "\n",
    "\n",
    "            if num_envs == 1:\n",
    "                    if n_exec_steps != horizon:\n",
    "                            replan_colors = colormaps['plasma_r']\n",
    "                            gradient = np.linspace(0, 1, len(replans[0]))\n",
    "                            for i,replan in enumerate(replans[0]):\n",
    "                                    #print(replan.shape)\n",
    "                                    ax.scatter(replan[:,0],replan[:,1],color=replan_colors(gradient[i]),s=5,label='Plan' + str(i),zorder=10-i)\n",
    "                    else:\n",
    "                            replan_colors = colormaps['plasma_r']\n",
    "                            gradient = np.linspace(0, 1, len(replans[0]))\n",
    "                            thingy = ax.scatter(replans[0][0][:,0],replans[0][0][:,1],c=range(len(replans[0][0][:,0])),s=5,label='Plan' + str(i),zorder=10-i)\n",
    "                            fig.colorbar(thingy)\n",
    "\n",
    "\n",
    "            #print(trajectories[0].shape)\n",
    "                    visited_intersections,visited_intersection_idx = find_trajectory_keypoints(trajectories[0].reshape(trajectories[0].shape[0],2), env,tolerance=0.06)\n",
    "            #print(visited_intersections.shape)\n",
    "                    ax.scatter(visited_intersections[:,0],visited_intersections[:,1],label='visited',color='red')\n",
    "            ax.legend()\n",
    "    traj_visitations = []\n",
    "    trajectories = np.array(trajectories)\n",
    "    trajectories = np.transpose(trajectories,(0,2,1,3))\n",
    "    #print(trajectories.shape)\n",
    "    for ep in trajectories:\n",
    "            for trajectory in ep:\n",
    "                    #print(trajectory.shape)\n",
    "                    visited_intersections, visited_intersections_idx = find_trajectory_keypoints(trajectory,env)\n",
    "                    traj_visitations.append(visited_intersections_idx)\n",
    "    generated_trajectory_visitations = get_trajectory_sets(traj_visitations)\n",
    "    filtered_trajectories = filter_successful_trajectories(generated_trajectory_visitations,goals=(5,0))\n",
    "    print(len(filtered_trajectories))\n",
    "    print('# of Unique Generated Trajectories:',len(filtered_trajectories))\n",
    "    print('# of New Generated Trajectories:', len(filtered_trajectories-training_trajectory_visitations))\n",
    "    #print('% of Generated Trajectories Novel:', len(filtered_trajectories-training_trajectory_visitations)/len(filtered_trajectories))\n",
    "    #training_trajectory_visitations\n"
   ]
  },
  {
   "cell_type": "markdown",
   "id": "444cb98c",
   "metadata": {},
   "source": [
    "## Overfitting Experiments"
   ]
  },
  {
   "cell_type": "code",
   "execution_count": 10,
   "id": "2e3ea03e",
   "metadata": {},
   "outputs": [
    {
     "name": "stderr",
     "output_type": "stream",
     "text": [
      "Processing trajectories: 100%|██████████| 25000/25000 [00:00<00:00, 389572.04it/s]\n"
     ]
    },
    {
     "name": "stdout",
     "output_type": "stream",
     "text": [
      "(50, 500, 2)\n",
      "# of Unique Training Trajectories: 42\n",
      "Total # of Env: 800\n"
     ]
    }
   ],
   "source": [
    "# imports, parameters, environment, etc.\n",
    "import torch\n",
    "import torch.nn as nn\n",
    "from utilities.ogbench_utilities import *\n",
    "from diffusion_planner import DiffusionPlannerConfig\n",
    "from diffusion_planner import eval_model as diffusion_planer_eval\n",
    "from utilities.cleandiffuser.invdynamic import MlpInvDynamic\n",
    "from utilities.cleandiffuser.diffusion import ContinuousDiffusionSDE\n",
    "from utilities.cleandiffuser.diffusion import DiscreteDiffusionSDE\n",
    "from utilities.cleandiffuser.nn_diffusion import JannerUNet1d,CNN1dShiftEq,ConvNext1dShiftEq\n",
    "from utilities.cleandiffuser.nn_condition import MLPCondition\n",
    "from utilities.gridland_environment import *\n",
    "from utilities.toy_env_utilities import ToyEnvInvDyn\n",
    "import matplotlib.pyplot as plt\n",
    "from matplotlib import colormaps\n",
    "env = 'gridland'\n",
    "n_size = 5\n",
    "memory = 1\n",
    "horizon = 512 # for generation so must be power of 2\n",
    "num_envs = 100\n",
    "num_samples = 8\n",
    "num_episodes = 1 # try not to change this i haven't validated it works and suspect heavily that it does not \n",
    "temperature = 0.5\n",
    "n_exec_steps = 512\n",
    "render = True\n",
    "visualize = False\n",
    "# gets the set of trajectories from the training data \n",
    "import numpy as np \n",
    "from utilities.gridland_environment import *\n",
    "from utilities.ogbench_utilities import GCSequenceDataset\n",
    "config = DiffusionPlannerConfig()\n",
    "config.horizon = 500\n",
    "config.gen_horizon = 512\n",
    "config.goal_sample_gamma = 0.99\n",
    "config.allow_partial_subsamples = False\n",
    "config.goal_padding = False\n",
    "envs, dataset, _ = make_envs_and_datasets_gridland(n_size=5,num_envs = config.num_envs)\n",
    "env = GridLand(n_size=5,timeout = 500)\n",
    "env.reset()\n",
    "train_dataset = GCSequenceDataset(dataset, config) # new sequence dataset\n",
    "batch = train_dataset.sample(idxs=range(50))\n",
    "#batch = train_dataset.sample()\n",
    "print(batch['observations'].shape)\n",
    "traj_visitations = []\n",
    "for trajectory in batch['observations']:\n",
    "    visited_intersections, visited_intersections_idx = find_trajectory_keypoints(trajectory,env)\n",
    "    traj_visitations.append(visited_intersections_idx)\n",
    "    #print(trajectory)\n",
    "training_trajectory_visitations = get_trajectory_sets(traj_visitations)\n",
    "print('# of Unique Training Trajectories:',len(training_trajectory_visitations))\n",
    "print('Total # of Env:',num_envs*num_samples)"
   ]
  },
  {
   "cell_type": "code",
   "execution_count": null,
   "id": "47ca6527",
   "metadata": {},
   "outputs": [
    {
     "name": "stdout",
     "output_type": "stream",
     "text": [
      "==== Unconditional EqNet  ====\n",
      "Model Path: DP-UNet-gridland-n5-37166c54diffusion_ckpt_50000.pt\n",
      "Name: <GridLand instance>\n",
      "Obs Space: 2\n",
      "Act Space: 2\n",
      "==== Running Eval ====\n"
     ]
    },
    {
     "name": "stderr",
     "output_type": "stream",
     "text": [
      "100%|██████████| 1/1 [00:11<00:00, 11.64s/it]\n",
      "100%|██████████| 1/1 [00:11<00:00, 11.19s/it]\n",
      "100%|██████████| 1/1 [00:11<00:00, 11.36s/it]\n",
      "100%|██████████| 1/1 [00:11<00:00, 11.23s/it]\n",
      "100%|██████████| 1/1 [00:11<00:00, 11.43s/it]\n",
      "100%|██████████| 1/1 [00:12<00:00, 12.00s/it]\n",
      "100%|██████████| 1/1 [00:11<00:00, 11.42s/it]\n",
      "100%|██████████| 1/1 [00:11<00:00, 11.89s/it]\n"
     ]
    },
    {
     "name": "stdout",
     "output_type": "stream",
     "text": [
      "Avg. Completion: 1.0\n",
      "42\n",
      "# of Unique Generated Trajectories: 42\n",
      "# of New Generated Trajectories: 0\n",
      "% of Generated Trajectories Novel: 0.0\n",
      "==== Unconditional EqNet  ====\n",
      "Model Path: DP-UNet-gridland-n5-37166c54diffusion_ckpt_100000.pt\n",
      "Name: <GridLand instance>\n",
      "Obs Space: 2\n",
      "Act Space: 2\n",
      "==== Running Eval ====\n"
     ]
    },
    {
     "name": "stderr",
     "output_type": "stream",
     "text": [
      "100%|██████████| 1/1 [00:11<00:00, 11.54s/it]\n",
      "100%|██████████| 1/1 [00:11<00:00, 11.09s/it]\n",
      "100%|██████████| 1/1 [00:10<00:00, 10.83s/it]\n",
      "100%|██████████| 1/1 [00:10<00:00, 10.38s/it]\n",
      "100%|██████████| 1/1 [00:10<00:00, 10.61s/it]\n",
      "100%|██████████| 1/1 [00:10<00:00, 10.81s/it]\n",
      "100%|██████████| 1/1 [00:10<00:00, 10.84s/it]\n",
      "100%|██████████| 1/1 [00:10<00:00, 10.79s/it]\n"
     ]
    },
    {
     "name": "stdout",
     "output_type": "stream",
     "text": [
      "Avg. Completion: 1.0\n",
      "42\n",
      "# of Unique Generated Trajectories: 42\n",
      "# of New Generated Trajectories: 0\n",
      "% of Generated Trajectories Novel: 0.0\n",
      "==== Unconditional EqNet  ====\n",
      "Model Path: DP-UNet-gridland-n5-37166c54diffusion_ckpt_150000.pt\n",
      "Name: <GridLand instance>\n",
      "Obs Space: 2\n",
      "Act Space: 2\n",
      "==== Running Eval ====\n"
     ]
    },
    {
     "name": "stderr",
     "output_type": "stream",
     "text": [
      "100%|██████████| 1/1 [00:10<00:00, 10.49s/it]\n",
      "100%|██████████| 1/1 [00:10<00:00, 10.30s/it]\n",
      "100%|██████████| 1/1 [00:10<00:00, 10.23s/it]\n",
      "100%|██████████| 1/1 [00:10<00:00, 10.29s/it]\n",
      "100%|██████████| 1/1 [00:10<00:00, 10.39s/it]\n",
      "100%|██████████| 1/1 [00:10<00:00, 10.68s/it]\n",
      "100%|██████████| 1/1 [00:10<00:00, 10.81s/it]\n",
      "100%|██████████| 1/1 [00:10<00:00, 10.50s/it]\n"
     ]
    },
    {
     "name": "stdout",
     "output_type": "stream",
     "text": [
      "Avg. Completion: 1.0\n",
      "42\n",
      "# of Unique Generated Trajectories: 42\n",
      "# of New Generated Trajectories: 0\n",
      "% of Generated Trajectories Novel: 0.0\n",
      "==== Unconditional EqNet  ====\n",
      "Model Path: DP-UNet-gridland-n5-37166c54diffusion_ckpt_200000.pt\n",
      "Name: <GridLand instance>\n",
      "Obs Space: 2\n",
      "Act Space: 2\n",
      "==== Running Eval ====\n"
     ]
    },
    {
     "name": "stderr",
     "output_type": "stream",
     "text": [
      "100%|██████████| 1/1 [00:10<00:00, 10.29s/it]\n",
      "100%|██████████| 1/1 [00:10<00:00, 10.34s/it]\n",
      "100%|██████████| 1/1 [00:10<00:00, 10.47s/it]\n",
      "100%|██████████| 1/1 [00:10<00:00, 10.43s/it]\n",
      "100%|██████████| 1/1 [00:10<00:00, 10.62s/it]\n",
      "100%|██████████| 1/1 [00:10<00:00, 10.65s/it]\n",
      "100%|██████████| 1/1 [00:10<00:00, 10.61s/it]\n",
      "100%|██████████| 1/1 [00:10<00:00, 10.59s/it]\n"
     ]
    },
    {
     "name": "stdout",
     "output_type": "stream",
     "text": [
      "Avg. Completion: 1.0\n",
      "42\n",
      "# of Unique Generated Trajectories: 42\n",
      "# of New Generated Trajectories: 0\n",
      "% of Generated Trajectories Novel: 0.0\n",
      "==== Unconditional EqNet  ====\n",
      "Model Path: DP-UNet-gridland-n5-37166c54diffusion_ckpt_250000.pt\n",
      "Name: <GridLand instance>\n",
      "Obs Space: 2\n",
      "Act Space: 2\n",
      "==== Running Eval ====\n"
     ]
    },
    {
     "name": "stderr",
     "output_type": "stream",
     "text": [
      "100%|██████████| 1/1 [00:11<00:00, 11.31s/it]\n",
      "100%|██████████| 1/1 [00:10<00:00, 10.62s/it]\n",
      "100%|██████████| 1/1 [00:10<00:00, 10.31s/it]\n",
      "100%|██████████| 1/1 [00:10<00:00, 10.34s/it]\n",
      "100%|██████████| 1/1 [00:10<00:00, 10.48s/it]\n",
      "100%|██████████| 1/1 [00:10<00:00, 10.41s/it]\n",
      "100%|██████████| 1/1 [00:10<00:00, 10.58s/it]\n",
      "100%|██████████| 1/1 [00:10<00:00, 10.51s/it]\n"
     ]
    },
    {
     "name": "stdout",
     "output_type": "stream",
     "text": [
      "Avg. Completion: 1.0\n",
      "42\n",
      "# of Unique Generated Trajectories: 42\n",
      "# of New Generated Trajectories: 0\n",
      "% of Generated Trajectories Novel: 0.0\n",
      "==== Unconditional EqNet  ====\n",
      "Model Path: DP-UNet-gridland-n5-37166c54diffusion_ckpt_300000.pt\n",
      "Name: <GridLand instance>\n",
      "Obs Space: 2\n",
      "Act Space: 2\n",
      "==== Running Eval ====\n"
     ]
    },
    {
     "name": "stderr",
     "output_type": "stream",
     "text": [
      "100%|██████████| 1/1 [00:10<00:00, 10.57s/it]\n",
      "100%|██████████| 1/1 [00:10<00:00, 10.33s/it]\n",
      "100%|██████████| 1/1 [00:10<00:00, 10.15s/it]\n",
      "100%|██████████| 1/1 [00:10<00:00, 10.21s/it]\n",
      "100%|██████████| 1/1 [00:10<00:00, 10.52s/it]\n",
      "100%|██████████| 1/1 [00:11<00:00, 11.52s/it]\n",
      "100%|██████████| 1/1 [00:11<00:00, 11.78s/it]\n",
      "100%|██████████| 1/1 [00:11<00:00, 11.36s/it]\n"
     ]
    },
    {
     "name": "stdout",
     "output_type": "stream",
     "text": [
      "Avg. Completion: 1.0\n",
      "42\n",
      "# of Unique Generated Trajectories: 42\n",
      "# of New Generated Trajectories: 0\n",
      "% of Generated Trajectories Novel: 0.0\n",
      "==== Unconditional EqNet  ====\n",
      "Model Path: DP-UNet-gridland-n5-37166c54diffusion_ckpt_350000.pt\n",
      "Name: <GridLand instance>\n",
      "Obs Space: 2\n",
      "Act Space: 2\n",
      "==== Running Eval ====\n"
     ]
    },
    {
     "name": "stderr",
     "output_type": "stream",
     "text": [
      "100%|██████████| 1/1 [00:10<00:00, 10.50s/it]\n",
      "100%|██████████| 1/1 [00:10<00:00, 10.28s/it]\n",
      "100%|██████████| 1/1 [00:10<00:00, 10.34s/it]\n",
      "100%|██████████| 1/1 [00:10<00:00, 10.30s/it]\n",
      "100%|██████████| 1/1 [00:10<00:00, 10.40s/it]\n",
      "100%|██████████| 1/1 [00:10<00:00, 10.64s/it]\n",
      "100%|██████████| 1/1 [00:10<00:00, 10.34s/it]\n",
      "100%|██████████| 1/1 [00:10<00:00, 10.85s/it]\n"
     ]
    },
    {
     "name": "stdout",
     "output_type": "stream",
     "text": [
      "Avg. Completion: 1.0\n",
      "42\n",
      "# of Unique Generated Trajectories: 42\n",
      "# of New Generated Trajectories: 0\n",
      "% of Generated Trajectories Novel: 0.0\n",
      "==== Unconditional EqNet  ====\n",
      "Model Path: DP-UNet-gridland-n5-37166c54diffusion_ckpt_400000.pt\n",
      "Name: <GridLand instance>\n",
      "Obs Space: 2\n",
      "Act Space: 2\n",
      "==== Running Eval ====\n"
     ]
    },
    {
     "name": "stderr",
     "output_type": "stream",
     "text": [
      "100%|██████████| 1/1 [00:10<00:00, 10.96s/it]\n",
      "100%|██████████| 1/1 [00:11<00:00, 11.05s/it]\n",
      "100%|██████████| 1/1 [00:10<00:00, 10.83s/it]\n",
      "100%|██████████| 1/1 [00:10<00:00, 10.90s/it]\n",
      "100%|██████████| 1/1 [00:11<00:00, 11.13s/it]\n",
      "100%|██████████| 1/1 [00:11<00:00, 11.05s/it]\n",
      "100%|██████████| 1/1 [00:11<00:00, 11.39s/it]\n",
      "100%|██████████| 1/1 [00:11<00:00, 11.14s/it]\n"
     ]
    },
    {
     "name": "stdout",
     "output_type": "stream",
     "text": [
      "Avg. Completion: 1.0\n",
      "42\n",
      "# of Unique Generated Trajectories: 42\n",
      "# of New Generated Trajectories: 0\n",
      "% of Generated Trajectories Novel: 0.0\n",
      "==== Unconditional EqNet  ====\n",
      "Model Path: DP-UNet-gridland-n5-37166c54diffusion_ckpt_450000.pt\n",
      "Name: <GridLand instance>\n",
      "Obs Space: 2\n",
      "Act Space: 2\n",
      "==== Running Eval ====\n"
     ]
    },
    {
     "name": "stderr",
     "output_type": "stream",
     "text": [
      "100%|██████████| 1/1 [00:11<00:00, 11.22s/it]\n",
      "100%|██████████| 1/1 [00:11<00:00, 11.15s/it]\n",
      "100%|██████████| 1/1 [00:10<00:00, 10.97s/it]\n",
      "100%|██████████| 1/1 [00:10<00:00, 10.99s/it]\n",
      "100%|██████████| 1/1 [00:11<00:00, 11.18s/it]\n",
      "100%|██████████| 1/1 [00:11<00:00, 11.10s/it]\n",
      "100%|██████████| 1/1 [00:11<00:00, 11.29s/it]\n",
      "100%|██████████| 1/1 [00:11<00:00, 11.22s/it]\n"
     ]
    },
    {
     "name": "stdout",
     "output_type": "stream",
     "text": [
      "Avg. Completion: 1.0\n",
      "42\n",
      "# of Unique Generated Trajectories: 42\n",
      "# of New Generated Trajectories: 0\n",
      "% of Generated Trajectories Novel: 0.0\n",
      "==== Unconditional EqNet  ====\n",
      "Model Path: DP-UNet-gridland-n5-37166c54diffusion_ckpt_500000.pt\n",
      "Name: <GridLand instance>\n",
      "Obs Space: 2\n",
      "Act Space: 2\n",
      "==== Running Eval ====\n"
     ]
    },
    {
     "name": "stderr",
     "output_type": "stream",
     "text": [
      "100%|██████████| 1/1 [00:10<00:00, 10.75s/it]\n",
      "100%|██████████| 1/1 [00:11<00:00, 11.14s/it]\n",
      "100%|██████████| 1/1 [00:11<00:00, 11.00s/it]\n",
      "100%|██████████| 1/1 [00:11<00:00, 11.02s/it]\n",
      "100%|██████████| 1/1 [00:11<00:00, 11.32s/it]\n",
      "100%|██████████| 1/1 [00:11<00:00, 11.51s/it]\n",
      "100%|██████████| 1/1 [00:11<00:00, 11.06s/it]\n",
      "100%|██████████| 1/1 [00:11<00:00, 11.13s/it]\n"
     ]
    },
    {
     "name": "stdout",
     "output_type": "stream",
     "text": [
      "Avg. Completion: 1.0\n",
      "42\n",
      "# of Unique Generated Trajectories: 42\n",
      "# of New Generated Trajectories: 0\n",
      "% of Generated Trajectories Novel: 0.0\n"
     ]
    }
   ],
   "source": [
    "### overfitting stuff u-net default\n",
    "model_paths = [\n",
    "                'DP-UNet-gridland-n5-37166c54diffusion_ckpt_50000.pt',\n",
    "                'DP-UNet-gridland-n5-37166c54diffusion_ckpt_100000.pt',\n",
    "                'DP-UNet-gridland-n5-37166c54diffusion_ckpt_150000.pt',\n",
    "                'DP-UNet-gridland-n5-37166c54diffusion_ckpt_200000.pt',\n",
    "                'DP-UNet-gridland-n5-37166c54diffusion_ckpt_250000.pt',\n",
    "                'DP-UNet-gridland-n5-37166c54diffusion_ckpt_300000.pt',\n",
    "                'DP-UNet-gridland-n5-37166c54diffusion_ckpt_350000.pt',\n",
    "                'DP-UNet-gridland-n5-37166c54diffusion_ckpt_400000.pt',\n",
    "                'DP-UNet-gridland-n5-37166c54diffusion_ckpt_450000.pt',\n",
    "                'DP-UNet-gridland-n5-37166c54diffusion_ckpt_500000.pt'\n",
    "                ]\n",
    "for i in range(len(model_paths)):\n",
    "    config = DiffusionPlannerConfig()\n",
    "    config.memory = memory\n",
    "    config.horizon = horizon\n",
    "    config.num_envs = num_envs\n",
    "    config.num_episodes = num_episodes\n",
    "    config.n_exec_steps = n_exec_steps\n",
    "    config.env = env\n",
    "    config.inpaint = False\n",
    "    config.gridland = True\n",
    "    config.n_size = n_size\n",
    "    config.pad = False\n",
    "    config.gen_horizon = horizon\n",
    "    config.toy_env = True\n",
    "    config.open_loop_invdyn = False\n",
    "    config.use_shift_equivariant_arch = False\n",
    "    config.add_positional_encoding = False\n",
    "    config.guidance = 'none'\n",
    "    config.goal_sample_dist = 'end' \n",
    "\n",
    "    # loads environment\n",
    "    envs = make_envs_and_datasets_gridland(n_size=config.n_size,num_envs = config.num_envs,env_only=True)\n",
    "    obs_dim, act_dim = envs.single_observation_space.shape[0], envs.single_action_space.shape[0]\n",
    "\n",
    "    # loads inverse dynamics\n",
    "    invdyn = ToyEnvInvDyn()\n",
    "    #invdyn.load(config.invdyn_path)\n",
    "\n",
    "    # loads agent \n",
    "    # --------------- Network Architecture -----------------# \n",
    "    #nn_diffusion = JannerUNet1dShiftEq(obs_dim)\n",
    "    #nn_diffusion = ConvNext1dShiftEq(obs_dim)\n",
    "    nn_diffusion = JannerUNet1d(\n",
    "        obs_dim, model_dim=config.model_dim, emb_dim=config.model_dim, dim_mult=[1, 2, 2, 2],\n",
    "        timestep_emb_type=\"positional\", attention=config.self_attention, kernel_size=5,\n",
    "        use_timestep_emb=config.use_timestep_embeddings)\n",
    "\n",
    "\n",
    "    # ----------------- Masking -------------------\n",
    "    # NOTE - not sure what any of this does (should figure out!)\n",
    "    fix_mask = torch.zeros((config.horizon, obs_dim)) \n",
    "    fix_mask[0, :] = 1. # for the starting/current state\n",
    "    loss_weight = torch.ones((config.horizon, obs_dim))\n",
    "\n",
    "    # --------------- difuse --------------------\n",
    "    agent = DiscreteDiffusionSDE(\n",
    "            nn_diffusion, None,\n",
    "            fix_mask=fix_mask, loss_weight=loss_weight, classifier=None, ema_rate=config.ema_rate,\n",
    "            device=config.device, diffusion_steps=config.diffusion_steps, predict_noise=config.predict_noise)\n",
    "\n",
    "\n",
    "    #agent.load('appendix_models/DP-EqNet-KL-gridland-n5-51d1744cdiffusion_ckpt_latest.pt')\n",
    "\n",
    "    #agent.load('paper_models/DP-EqNet-PosEnc-gridland-n5-1c240542diffusion_ckpt_latest.pt')\n",
    "    agent.load('paper_models/' + model_paths[i])\n",
    "\n",
    "    # Environment info \n",
    "    print('==== Unconditional EqNet  ====')\n",
    "    print('Model Path:',model_paths[i])\n",
    "    print('Name:',config.env)\n",
    "    print('Obs Space:',obs_dim)\n",
    "    print('Act Space:',act_dim)\n",
    "    # main evaluation loop\n",
    "    print('==== Running Eval ====')\n",
    "    avg_completion = 0\n",
    "    trajectories = []\n",
    "    for i in range(num_samples):\n",
    "            envs.reset()\n",
    "            avg_completion_sample,trajectories_sample, replans = diffusion_planer_eval(agent,invdyn,envs,config,give_trajectory=True,give_replans=True)\n",
    "            # pads trajectory samples to 512\n",
    "            new_trajectory_samples = []\n",
    "            for traj in trajectories_sample:\n",
    "                    new_traj = np.pad(traj,((0,501-traj.shape[0]),(0,0),(0,0)),mode='edge')\n",
    "                    #print(new_traj.shape)\n",
    "                    new_trajectory_samples.append(new_traj)\n",
    "            avg_completion += avg_completion_sample\n",
    "            trajectories += new_trajectory_samples\n",
    "    avg_completion = avg_completion / num_samples\n",
    "    print('Avg. Completion:',avg_completion)\n",
    "\n",
    "    if visualize:\n",
    "            env = GridLand(n_size=n_size,timeout = 500)\n",
    "            env.reset()\n",
    "            fig, ax = env.get_mpl_plot()\n",
    "            #print('replans',np.array(replans).shape)\n",
    "            #ax.scatter(trajectories[0][:,:,0],trajectories[0][:,:,1],c=range(len(trajectories[0])),s=5,label='Executed Trajectory')\n",
    "            if num_envs == 1:\n",
    "                    ax.scatter(trajectories[0][:,:,0],trajectories[0][:,:,1],c='black',s=5,label='Executed Trajectory',alpha=0.2,zorder=100)\n",
    "            else:\n",
    "                    ax.scatter(trajectories[0][:,:,0],trajectories[0][:,:,1],c='black',s=5,label='Executed Trajectory',alpha=0.05,zorder=100)\n",
    "            #ax.scatter(replans[0][0,:,0],replans[0][0,:,1],c='y',s=5,label='Plan')\n",
    "            #ax.scatter(trajectories[0][:,:,0],trajectories[0][:,:,1],c=range(len(trajectories[0])),s=5,label='Executed Trajectory')\n",
    "\n",
    "\n",
    "            if num_envs == 1:\n",
    "                    if n_exec_steps != horizon:\n",
    "                            replan_colors = colormaps['plasma_r']\n",
    "                            gradient = np.linspace(0, 1, len(replans[0]))\n",
    "                            for i,replan in enumerate(replans[0]):\n",
    "                                    #print(replan.shape)\n",
    "                                    ax.scatter(replan[:,0],replan[:,1],color=replan_colors(gradient[i]),s=5,label='Plan' + str(i),zorder=10-i)\n",
    "                    else:\n",
    "                            replan_colors = colormaps['plasma_r']\n",
    "                            gradient = np.linspace(0, 1, len(replans[0]))\n",
    "                            thingy = ax.scatter(replans[0][0][:,0],replans[0][0][:,1],c=range(len(replans[0][0][:,0])),s=5,label='Plan' + str(i),zorder=10-i)\n",
    "                            fig.colorbar(thingy)\n",
    "\n",
    "\n",
    "            #print(trajectories[0].shape)\n",
    "                    visited_intersections,visited_intersection_idx = find_trajectory_keypoints(trajectories[0].reshape(trajectories[0].shape[0],2), env,tolerance=0.06)\n",
    "            #print(visited_intersections.shape)\n",
    "                    ax.scatter(visited_intersections[:,0],visited_intersections[:,1],label='visited',color='red')\n",
    "            ax.legend()\n",
    "    traj_visitations = []\n",
    "    trajectories = np.array(trajectories)\n",
    "    trajectories = np.transpose(trajectories,(0,2,1,3))\n",
    "    #print(trajectories.shape)\n",
    "    for ep in trajectories:\n",
    "            for trajectory in ep:\n",
    "                    #print(trajectory.shape)\n",
    "                    visited_intersections, visited_intersections_idx = find_trajectory_keypoints(trajectory,env)\n",
    "                    traj_visitations.append(visited_intersections_idx)\n",
    "    generated_trajectory_visitations = get_trajectory_sets(traj_visitations)\n",
    "    filtered_trajectories = filter_successful_trajectories(generated_trajectory_visitations,goals=(5,0))\n",
    "    print(len(filtered_trajectories))\n",
    "    print('# of Unique Generated Trajectories:',len(filtered_trajectories))\n",
    "    print('# of New Generated Trajectories:', len(filtered_trajectories-training_trajectory_visitations))\n",
    "    print('% of Generated Trajectories Novel:', len(filtered_trajectories-training_trajectory_visitations)/len(filtered_trajectories))\n",
    "    #training_trajectory_visitations\n"
   ]
  },
  {
   "cell_type": "code",
   "execution_count": 13,
   "id": "ea107644",
   "metadata": {},
   "outputs": [
    {
     "name": "stdout",
     "output_type": "stream",
     "text": [
      "==== Unconditional EqNet  ====\n",
      "Model Path: DP-UNet-PosAug-gridland-n5-8033f6cddiffusion_ckpt_50000.pt\n",
      "Name: <GridLand instance>\n",
      "Obs Space: 2\n",
      "Act Space: 2\n",
      "==== Running Eval ====\n"
     ]
    },
    {
     "name": "stderr",
     "output_type": "stream",
     "text": [
      "100%|██████████| 1/1 [00:13<00:00, 13.69s/it]\n",
      "100%|██████████| 1/1 [00:12<00:00, 12.55s/it]\n",
      "100%|██████████| 1/1 [00:12<00:00, 12.49s/it]\n",
      "100%|██████████| 1/1 [00:13<00:00, 13.83s/it]\n",
      "100%|██████████| 1/1 [00:12<00:00, 12.77s/it]\n",
      "100%|██████████| 1/1 [00:13<00:00, 13.86s/it]\n",
      "100%|██████████| 1/1 [00:13<00:00, 13.15s/it]\n",
      "100%|██████████| 1/1 [00:13<00:00, 13.18s/it]\n"
     ]
    },
    {
     "name": "stdout",
     "output_type": "stream",
     "text": [
      "Avg. Completion: 0.0\n",
      "0\n",
      "# of Unique Generated Trajectories: 0\n",
      "# of New Generated Trajectories: 0\n",
      "==== Unconditional EqNet  ====\n",
      "Model Path: DP-UNet-PosAug-gridland-n5-8033f6cddiffusion_ckpt_100000.pt\n",
      "Name: <GridLand instance>\n",
      "Obs Space: 2\n",
      "Act Space: 2\n",
      "==== Running Eval ====\n"
     ]
    },
    {
     "name": "stderr",
     "output_type": "stream",
     "text": [
      "100%|██████████| 1/1 [00:12<00:00, 12.56s/it]\n",
      "100%|██████████| 1/1 [00:13<00:00, 13.32s/it]\n",
      "100%|██████████| 1/1 [00:12<00:00, 12.33s/it]\n",
      "100%|██████████| 1/1 [00:13<00:00, 13.84s/it]\n",
      "100%|██████████| 1/1 [00:12<00:00, 12.63s/it]\n",
      "100%|██████████| 1/1 [00:12<00:00, 12.71s/it]\n",
      "100%|██████████| 1/1 [00:13<00:00, 13.71s/it]\n",
      "100%|██████████| 1/1 [00:13<00:00, 13.77s/it]\n"
     ]
    },
    {
     "name": "stdout",
     "output_type": "stream",
     "text": [
      "Avg. Completion: 0.9812500000000002\n",
      "84\n",
      "# of Unique Generated Trajectories: 84\n",
      "# of New Generated Trajectories: 42\n",
      "==== Unconditional EqNet  ====\n",
      "Model Path: DP-UNet-PosAug-gridland-n5-8033f6cddiffusion_ckpt_150000.pt\n",
      "Name: <GridLand instance>\n",
      "Obs Space: 2\n",
      "Act Space: 2\n",
      "==== Running Eval ====\n"
     ]
    },
    {
     "name": "stderr",
     "output_type": "stream",
     "text": [
      "100%|██████████| 1/1 [00:10<00:00, 10.82s/it]\n",
      "100%|██████████| 1/1 [00:13<00:00, 13.46s/it]\n",
      "100%|██████████| 1/1 [00:12<00:00, 12.12s/it]\n",
      "100%|██████████| 1/1 [00:10<00:00, 10.92s/it]\n",
      "100%|██████████| 1/1 [00:11<00:00, 11.96s/it]\n",
      "100%|██████████| 1/1 [00:13<00:00, 13.09s/it]\n",
      "100%|██████████| 1/1 [00:12<00:00, 12.53s/it]\n",
      "100%|██████████| 1/1 [00:12<00:00, 12.63s/it]\n"
     ]
    },
    {
     "name": "stdout",
     "output_type": "stream",
     "text": [
      "Avg. Completion: 0.9950000000000001\n",
      "65\n",
      "# of Unique Generated Trajectories: 65\n",
      "# of New Generated Trajectories: 23\n",
      "==== Unconditional EqNet  ====\n",
      "Model Path: DP-UNet-PosAug-gridland-n5-8033f6cddiffusion_ckpt_200000.pt\n",
      "Name: <GridLand instance>\n",
      "Obs Space: 2\n",
      "Act Space: 2\n",
      "==== Running Eval ====\n"
     ]
    },
    {
     "name": "stderr",
     "output_type": "stream",
     "text": [
      "100%|██████████| 1/1 [00:12<00:00, 12.53s/it]\n",
      "100%|██████████| 1/1 [00:12<00:00, 12.76s/it]\n",
      "100%|██████████| 1/1 [00:12<00:00, 12.10s/it]\n",
      "100%|██████████| 1/1 [00:11<00:00, 11.04s/it]\n",
      "100%|██████████| 1/1 [00:12<00:00, 12.80s/it]\n",
      "100%|██████████| 1/1 [00:14<00:00, 14.30s/it]\n",
      "100%|██████████| 1/1 [00:12<00:00, 12.79s/it]\n",
      "100%|██████████| 1/1 [00:12<00:00, 12.57s/it]\n"
     ]
    },
    {
     "name": "stdout",
     "output_type": "stream",
     "text": [
      "Avg. Completion: 0.9874999999999999\n",
      "63\n",
      "# of Unique Generated Trajectories: 63\n",
      "# of New Generated Trajectories: 21\n",
      "==== Unconditional EqNet  ====\n",
      "Model Path: DP-UNet-PosAug-gridland-n5-8033f6cddiffusion_ckpt_250000.pt\n",
      "Name: <GridLand instance>\n",
      "Obs Space: 2\n",
      "Act Space: 2\n",
      "==== Running Eval ====\n"
     ]
    },
    {
     "name": "stderr",
     "output_type": "stream",
     "text": [
      "100%|██████████| 1/1 [00:12<00:00, 12.47s/it]\n",
      "100%|██████████| 1/1 [00:10<00:00, 10.99s/it]\n",
      "100%|██████████| 1/1 [00:11<00:00, 11.25s/it]\n",
      "100%|██████████| 1/1 [00:13<00:00, 13.67s/it]\n",
      "100%|██████████| 1/1 [00:11<00:00, 11.01s/it]\n",
      "100%|██████████| 1/1 [00:11<00:00, 11.78s/it]\n",
      "100%|██████████| 1/1 [00:12<00:00, 12.77s/it]\n",
      "100%|██████████| 1/1 [00:12<00:00, 12.93s/it]\n"
     ]
    },
    {
     "name": "stdout",
     "output_type": "stream",
     "text": [
      "Avg. Completion: 0.9962500000000001\n",
      "58\n",
      "# of Unique Generated Trajectories: 58\n",
      "# of New Generated Trajectories: 16\n",
      "==== Unconditional EqNet  ====\n",
      "Model Path: DP-UNet-PosAug-gridland-n5-8033f6cddiffusion_ckpt_300000.pt\n",
      "Name: <GridLand instance>\n",
      "Obs Space: 2\n",
      "Act Space: 2\n",
      "==== Running Eval ====\n"
     ]
    },
    {
     "name": "stderr",
     "output_type": "stream",
     "text": [
      "100%|██████████| 1/1 [00:10<00:00, 10.77s/it]\n",
      "100%|██████████| 1/1 [00:10<00:00, 10.78s/it]\n",
      "100%|██████████| 1/1 [00:13<00:00, 13.74s/it]\n",
      "100%|██████████| 1/1 [00:11<00:00, 11.23s/it]\n",
      "100%|██████████| 1/1 [00:13<00:00, 13.82s/it]\n",
      "100%|██████████| 1/1 [00:11<00:00, 11.37s/it]\n",
      "100%|██████████| 1/1 [00:12<00:00, 12.95s/it]\n",
      "100%|██████████| 1/1 [00:12<00:00, 12.64s/it]\n"
     ]
    },
    {
     "name": "stdout",
     "output_type": "stream",
     "text": [
      "Avg. Completion: 0.9950000000000001\n",
      "58\n",
      "# of Unique Generated Trajectories: 58\n",
      "# of New Generated Trajectories: 16\n",
      "==== Unconditional EqNet  ====\n",
      "Model Path: DP-UNet-PosAug-gridland-n5-8033f6cddiffusion_ckpt_350000.pt\n",
      "Name: <GridLand instance>\n",
      "Obs Space: 2\n",
      "Act Space: 2\n",
      "==== Running Eval ====\n"
     ]
    },
    {
     "name": "stderr",
     "output_type": "stream",
     "text": [
      "100%|██████████| 1/1 [00:12<00:00, 12.56s/it]\n",
      "100%|██████████| 1/1 [00:12<00:00, 12.42s/it]\n",
      "100%|██████████| 1/1 [00:11<00:00, 11.28s/it]\n",
      "100%|██████████| 1/1 [00:13<00:00, 13.88s/it]\n",
      "100%|██████████| 1/1 [00:11<00:00, 11.12s/it]\n",
      "100%|██████████| 1/1 [00:14<00:00, 14.01s/it]\n",
      "100%|██████████| 1/1 [00:11<00:00, 11.05s/it]\n",
      "100%|██████████| 1/1 [00:11<00:00, 11.18s/it]\n"
     ]
    },
    {
     "name": "stdout",
     "output_type": "stream",
     "text": [
      "Avg. Completion: 0.9962500000000001\n",
      "56\n",
      "# of Unique Generated Trajectories: 56\n",
      "# of New Generated Trajectories: 14\n",
      "==== Unconditional EqNet  ====\n",
      "Model Path: DP-UNet-PosAug-gridland-n5-8033f6cddiffusion_ckpt_400000.pt\n",
      "Name: <GridLand instance>\n",
      "Obs Space: 2\n",
      "Act Space: 2\n",
      "==== Running Eval ====\n"
     ]
    },
    {
     "name": "stderr",
     "output_type": "stream",
     "text": [
      "100%|██████████| 1/1 [00:11<00:00, 11.63s/it]\n",
      "100%|██████████| 1/1 [00:12<00:00, 12.72s/it]\n",
      "100%|██████████| 1/1 [00:11<00:00, 11.04s/it]\n",
      "100%|██████████| 1/1 [00:12<00:00, 12.19s/it]\n",
      "100%|██████████| 1/1 [00:12<00:00, 12.39s/it]\n",
      "100%|██████████| 1/1 [00:11<00:00, 11.28s/it]\n",
      "100%|██████████| 1/1 [00:14<00:00, 14.31s/it]\n",
      "100%|██████████| 1/1 [00:13<00:00, 13.02s/it]\n"
     ]
    },
    {
     "name": "stdout",
     "output_type": "stream",
     "text": [
      "Avg. Completion: 0.9962500000000001\n",
      "55\n",
      "# of Unique Generated Trajectories: 55\n",
      "# of New Generated Trajectories: 13\n",
      "==== Unconditional EqNet  ====\n",
      "Model Path: DP-UNet-PosAug-gridland-n5-8033f6cddiffusion_ckpt_450000.pt\n",
      "Name: <GridLand instance>\n",
      "Obs Space: 2\n",
      "Act Space: 2\n",
      "==== Running Eval ====\n"
     ]
    },
    {
     "name": "stderr",
     "output_type": "stream",
     "text": [
      "100%|██████████| 1/1 [00:11<00:00, 11.38s/it]\n",
      "100%|██████████| 1/1 [00:10<00:00, 10.96s/it]\n",
      "100%|██████████| 1/1 [00:12<00:00, 12.63s/it]\n",
      "100%|██████████| 1/1 [00:11<00:00, 11.01s/it]\n",
      "100%|██████████| 1/1 [00:11<00:00, 11.47s/it]\n",
      "100%|██████████| 1/1 [00:14<00:00, 14.17s/it]\n",
      "100%|██████████| 1/1 [00:11<00:00, 11.33s/it]\n",
      "100%|██████████| 1/1 [00:11<00:00, 11.47s/it]\n"
     ]
    },
    {
     "name": "stdout",
     "output_type": "stream",
     "text": [
      "Avg. Completion: 0.9975\n",
      "51\n",
      "# of Unique Generated Trajectories: 51\n",
      "# of New Generated Trajectories: 9\n",
      "==== Unconditional EqNet  ====\n",
      "Model Path: DP-UNet-PosAug-gridland-n5-8033f6cddiffusion_ckpt_500000.pt\n",
      "Name: <GridLand instance>\n",
      "Obs Space: 2\n",
      "Act Space: 2\n",
      "==== Running Eval ====\n"
     ]
    },
    {
     "name": "stderr",
     "output_type": "stream",
     "text": [
      "100%|██████████| 1/1 [00:13<00:00, 13.63s/it]\n",
      "100%|██████████| 1/1 [00:11<00:00, 11.23s/it]\n",
      "100%|██████████| 1/1 [00:12<00:00, 12.66s/it]\n",
      "100%|██████████| 1/1 [00:13<00:00, 13.64s/it]\n",
      "100%|██████████| 1/1 [00:12<00:00, 12.91s/it]\n",
      "100%|██████████| 1/1 [00:12<00:00, 12.57s/it]\n",
      "100%|██████████| 1/1 [00:14<00:00, 14.16s/it]\n",
      "100%|██████████| 1/1 [00:11<00:00, 11.57s/it]\n"
     ]
    },
    {
     "name": "stdout",
     "output_type": "stream",
     "text": [
      "Avg. Completion: 0.99\n",
      "53\n",
      "# of Unique Generated Trajectories: 53\n",
      "# of New Generated Trajectories: 11\n"
     ]
    }
   ],
   "source": [
    "### overfitting stuff u-net with aug\n",
    "model_paths = [\n",
    "                'DP-UNet-PosAug-gridland-n5-8033f6cddiffusion_ckpt_50000.pt',\n",
    "                'DP-UNet-PosAug-gridland-n5-8033f6cddiffusion_ckpt_100000.pt',\n",
    "                'DP-UNet-PosAug-gridland-n5-8033f6cddiffusion_ckpt_150000.pt',\n",
    "                'DP-UNet-PosAug-gridland-n5-8033f6cddiffusion_ckpt_200000.pt',\n",
    "                'DP-UNet-PosAug-gridland-n5-8033f6cddiffusion_ckpt_250000.pt',\n",
    "                'DP-UNet-PosAug-gridland-n5-8033f6cddiffusion_ckpt_300000.pt',\n",
    "                'DP-UNet-PosAug-gridland-n5-8033f6cddiffusion_ckpt_350000.pt',\n",
    "                'DP-UNet-PosAug-gridland-n5-8033f6cddiffusion_ckpt_400000.pt',\n",
    "                'DP-UNet-PosAug-gridland-n5-8033f6cddiffusion_ckpt_450000.pt',\n",
    "                'DP-UNet-PosAug-gridland-n5-8033f6cddiffusion_ckpt_500000.pt'\n",
    "                ]\n",
    "for i in range(len(model_paths)):\n",
    "    config = DiffusionPlannerConfig()\n",
    "    config.memory = memory\n",
    "    config.horizon = horizon\n",
    "    config.num_envs = num_envs\n",
    "    config.num_episodes = num_episodes\n",
    "    config.n_exec_steps = n_exec_steps\n",
    "    config.env = env\n",
    "    config.inpaint = False\n",
    "    config.gridland = True\n",
    "    config.n_size = n_size\n",
    "    config.pad = False\n",
    "    config.gen_horizon = horizon\n",
    "    config.toy_env = True\n",
    "    config.open_loop_invdyn = False\n",
    "    config.use_shift_equivariant_arch = False\n",
    "    config.add_positional_encoding = False\n",
    "    config.guidance = 'none'\n",
    "    config.goal_sample_dist = 'end' \n",
    "\n",
    "    # loads environment\n",
    "    envs = make_envs_and_datasets_gridland(n_size=config.n_size,num_envs = config.num_envs,env_only=True)\n",
    "    obs_dim, act_dim = envs.single_observation_space.shape[0], envs.single_action_space.shape[0]\n",
    "\n",
    "    # loads inverse dynamics\n",
    "    invdyn = ToyEnvInvDyn()\n",
    "    #invdyn.load(config.invdyn_path)\n",
    "\n",
    "    # loads agent \n",
    "    # --------------- Network Architecture -----------------# \n",
    "    #nn_diffusion = JannerUNet1dShiftEq(obs_dim)\n",
    "    #nn_diffusion = ConvNext1dShiftEq(obs_dim)\n",
    "    nn_diffusion = JannerUNet1d(\n",
    "        obs_dim, model_dim=config.model_dim, emb_dim=config.model_dim, dim_mult=[1, 2, 2, 2],\n",
    "        timestep_emb_type=\"positional\", attention=config.self_attention, kernel_size=5,\n",
    "        use_timestep_emb=config.use_timestep_embeddings)\n",
    "\n",
    "\n",
    "    # ----------------- Masking -------------------\n",
    "    # NOTE - not sure what any of this does (should figure out!)\n",
    "    fix_mask = torch.zeros((config.horizon, obs_dim)) \n",
    "    fix_mask[0, :] = 1. # for the starting/current state\n",
    "    loss_weight = torch.ones((config.horizon, obs_dim))\n",
    "\n",
    "    # --------------- difuse --------------------\n",
    "    agent = DiscreteDiffusionSDE(\n",
    "            nn_diffusion, None,\n",
    "            fix_mask=fix_mask, loss_weight=loss_weight, classifier=None, ema_rate=config.ema_rate,\n",
    "            device=config.device, diffusion_steps=config.diffusion_steps, predict_noise=config.predict_noise)\n",
    "\n",
    "\n",
    "    #agent.load('appendix_models/DP-EqNet-KL-gridland-n5-51d1744cdiffusion_ckpt_latest.pt')\n",
    "\n",
    "    #agent.load('paper_models/DP-EqNet-PosEnc-gridland-n5-1c240542diffusion_ckpt_latest.pt')\n",
    "    agent.load('paper_models/' + model_paths[i])\n",
    "\n",
    "    # Environment info \n",
    "    print('==== Unconditional EqNet  ====')\n",
    "    print('Model Path:',model_paths[i])\n",
    "    print('Name:',config.env)\n",
    "    print('Obs Space:',obs_dim)\n",
    "    print('Act Space:',act_dim)\n",
    "    # main evaluation loop\n",
    "    print('==== Running Eval ====')\n",
    "    avg_completion = 0\n",
    "    trajectories = []\n",
    "    for i in range(num_samples):\n",
    "            envs.reset()\n",
    "            avg_completion_sample,trajectories_sample, replans = diffusion_planer_eval(agent,invdyn,envs,config,give_trajectory=True,give_replans=True)\n",
    "            # pads trajectory samples to 512\n",
    "            new_trajectory_samples = []\n",
    "            for traj in trajectories_sample:\n",
    "                    new_traj = np.pad(traj,((0,501-traj.shape[0]),(0,0),(0,0)),mode='edge')\n",
    "                    #print(new_traj.shape)\n",
    "                    new_trajectory_samples.append(new_traj)\n",
    "            avg_completion += avg_completion_sample\n",
    "            trajectories += new_trajectory_samples\n",
    "    avg_completion = avg_completion / num_samples\n",
    "    print('Avg. Completion:',avg_completion)\n",
    "\n",
    "    if visualize:\n",
    "            env = GridLand(n_size=n_size,timeout = 500)\n",
    "            env.reset()\n",
    "            fig, ax = env.get_mpl_plot()\n",
    "            #print('replans',np.array(replans).shape)\n",
    "            #ax.scatter(trajectories[0][:,:,0],trajectories[0][:,:,1],c=range(len(trajectories[0])),s=5,label='Executed Trajectory')\n",
    "            if num_envs == 1:\n",
    "                    ax.scatter(trajectories[0][:,:,0],trajectories[0][:,:,1],c='black',s=5,label='Executed Trajectory',alpha=0.2,zorder=100)\n",
    "            else:\n",
    "                    ax.scatter(trajectories[0][:,:,0],trajectories[0][:,:,1],c='black',s=5,label='Executed Trajectory',alpha=0.05,zorder=100)\n",
    "            #ax.scatter(replans[0][0,:,0],replans[0][0,:,1],c='y',s=5,label='Plan')\n",
    "            #ax.scatter(trajectories[0][:,:,0],trajectories[0][:,:,1],c=range(len(trajectories[0])),s=5,label='Executed Trajectory')\n",
    "\n",
    "\n",
    "            if num_envs == 1:\n",
    "                    if n_exec_steps != horizon:\n",
    "                            replan_colors = colormaps['plasma_r']\n",
    "                            gradient = np.linspace(0, 1, len(replans[0]))\n",
    "                            for i,replan in enumerate(replans[0]):\n",
    "                                    #print(replan.shape)\n",
    "                                    ax.scatter(replan[:,0],replan[:,1],color=replan_colors(gradient[i]),s=5,label='Plan' + str(i),zorder=10-i)\n",
    "                    else:\n",
    "                            replan_colors = colormaps['plasma_r']\n",
    "                            gradient = np.linspace(0, 1, len(replans[0]))\n",
    "                            thingy = ax.scatter(replans[0][0][:,0],replans[0][0][:,1],c=range(len(replans[0][0][:,0])),s=5,label='Plan' + str(i),zorder=10-i)\n",
    "                            fig.colorbar(thingy)\n",
    "\n",
    "\n",
    "            #print(trajectories[0].shape)\n",
    "                    visited_intersections,visited_intersection_idx = find_trajectory_keypoints(trajectories[0].reshape(trajectories[0].shape[0],2), env,tolerance=0.06)\n",
    "            #print(visited_intersections.shape)\n",
    "                    ax.scatter(visited_intersections[:,0],visited_intersections[:,1],label='visited',color='red')\n",
    "            ax.legend()\n",
    "    traj_visitations = []\n",
    "    trajectories = np.array(trajectories)\n",
    "    trajectories = np.transpose(trajectories,(0,2,1,3))\n",
    "    #print(trajectories.shape)\n",
    "    for ep in trajectories:\n",
    "            for trajectory in ep:\n",
    "                    #print(trajectory.shape)\n",
    "                    visited_intersections, visited_intersections_idx = find_trajectory_keypoints(trajectory,env)\n",
    "                    traj_visitations.append(visited_intersections_idx)\n",
    "    generated_trajectory_visitations = get_trajectory_sets(traj_visitations)\n",
    "    filtered_trajectories = filter_successful_trajectories(generated_trajectory_visitations,goals=(5,0))\n",
    "    print(len(filtered_trajectories))\n",
    "    print('# of Unique Generated Trajectories:',len(filtered_trajectories))\n",
    "    print('# of New Generated Trajectories:', len(filtered_trajectories-training_trajectory_visitations))\n",
    "    #print('% of Generated Trajectories Novel:', len(filtered_trajectories-training_trajectory_visitations)/len(filtered_trajectories))\n",
    "    #training_trajectory_visitations\n"
   ]
  },
  {
   "cell_type": "code",
   "execution_count": 14,
   "id": "319341b0",
   "metadata": {},
   "outputs": [
    {
     "name": "stderr",
     "output_type": "stream",
     "text": [
      "/root/generative-stitching/goal_stitching/utilities/cleandiffuser/diffusion/basic.py:101: FutureWarning: You are using `torch.load` with `weights_only=False` (the current default value), which uses the default pickle module implicitly. It is possible to construct malicious pickle data which will execute arbitrary code during unpickling (See https://github.com/pytorch/pytorch/blob/main/SECURITY.md#untrusted-models for more details). In a future release, the default value for `weights_only` will be flipped to `True`. This limits the functions that could be executed during unpickling. Arbitrary objects will no longer be allowed to be loaded via this mode unless they are explicitly allowlisted by the user via `torch.serialization.add_safe_globals`. We recommend you start setting `weights_only=True` for any use case where you don't have full control of the loaded file. Please open an issue on GitHub for any issues related to this experimental feature.\n",
      "  checkpoint = torch.load(path, map_location=self.device)\n"
     ]
    },
    {
     "name": "stdout",
     "output_type": "stream",
     "text": [
      "==== Unconditional EqNet  ====\n",
      "Model Path: DP-EqNet-PosEnc-gridland-n5-1c240542diffusion_ckpt_50000.pt\n",
      "Name: <GridLand instance>\n",
      "Obs Space: 2\n",
      "Act Space: 2\n",
      "==== Running Eval ====\n"
     ]
    },
    {
     "name": "stderr",
     "output_type": "stream",
     "text": [
      "100%|██████████| 1/1 [00:17<00:00, 17.34s/it]\n",
      "100%|██████████| 1/1 [00:15<00:00, 15.84s/it]\n",
      "100%|██████████| 1/1 [00:17<00:00, 17.34s/it]\n",
      "100%|██████████| 1/1 [00:17<00:00, 17.10s/it]\n",
      "100%|██████████| 1/1 [00:17<00:00, 17.03s/it]\n",
      "100%|██████████| 1/1 [00:15<00:00, 15.80s/it]\n",
      "100%|██████████| 1/1 [00:17<00:00, 17.13s/it]\n",
      "100%|██████████| 1/1 [00:15<00:00, 15.95s/it]\n"
     ]
    },
    {
     "name": "stdout",
     "output_type": "stream",
     "text": [
      "Avg. Completion: 0.47625\n",
      "66\n",
      "# of Unique Generated Trajectories: 66\n",
      "# of New Generated Trajectories: 60\n",
      "% of Generated Trajectories Novel: 0.9090909090909091\n",
      "==== Unconditional EqNet  ====\n",
      "Model Path: DP-EqNet-PosEnc-gridland-n5-1c240542diffusion_ckpt_100000.pt\n",
      "Name: <GridLand instance>\n",
      "Obs Space: 2\n",
      "Act Space: 2\n",
      "==== Running Eval ====\n"
     ]
    },
    {
     "name": "stderr",
     "output_type": "stream",
     "text": [
      "100%|██████████| 1/1 [00:16<00:00, 16.28s/it]\n",
      "100%|██████████| 1/1 [00:16<00:00, 16.06s/it]\n",
      "100%|██████████| 1/1 [00:16<00:00, 16.02s/it]\n",
      "100%|██████████| 1/1 [00:16<00:00, 16.84s/it]\n",
      "100%|██████████| 1/1 [00:16<00:00, 16.25s/it]\n",
      "100%|██████████| 1/1 [00:17<00:00, 17.49s/it]\n",
      "100%|██████████| 1/1 [00:14<00:00, 14.80s/it]\n",
      "100%|██████████| 1/1 [00:15<00:00, 15.69s/it]\n"
     ]
    },
    {
     "name": "stdout",
     "output_type": "stream",
     "text": [
      "Avg. Completion: 0.9925\n",
      "115\n",
      "# of Unique Generated Trajectories: 115\n",
      "# of New Generated Trajectories: 73\n",
      "% of Generated Trajectories Novel: 0.6347826086956522\n",
      "==== Unconditional EqNet  ====\n",
      "Model Path: DP-EqNet-PosEnc-gridland-n5-1c240542diffusion_ckpt_150000.pt\n",
      "Name: <GridLand instance>\n",
      "Obs Space: 2\n",
      "Act Space: 2\n",
      "==== Running Eval ====\n"
     ]
    },
    {
     "name": "stderr",
     "output_type": "stream",
     "text": [
      "100%|██████████| 1/1 [00:14<00:00, 14.84s/it]\n",
      "100%|██████████| 1/1 [00:16<00:00, 16.71s/it]\n",
      "100%|██████████| 1/1 [00:14<00:00, 14.43s/it]\n",
      "100%|██████████| 1/1 [00:15<00:00, 15.70s/it]\n",
      "100%|██████████| 1/1 [00:16<00:00, 16.36s/it]\n",
      "100%|██████████| 1/1 [00:15<00:00, 15.80s/it]\n",
      "100%|██████████| 1/1 [00:16<00:00, 16.23s/it]\n",
      "100%|██████████| 1/1 [00:18<00:00, 18.01s/it]\n"
     ]
    },
    {
     "name": "stdout",
     "output_type": "stream",
     "text": [
      "Avg. Completion: 0.9937500000000001\n",
      "98\n",
      "# of Unique Generated Trajectories: 98\n",
      "# of New Generated Trajectories: 56\n",
      "% of Generated Trajectories Novel: 0.5714285714285714\n",
      "==== Unconditional EqNet  ====\n",
      "Model Path: DP-EqNet-PosEnc-gridland-n5-1c240542diffusion_ckpt_200000.pt\n",
      "Name: <GridLand instance>\n",
      "Obs Space: 2\n",
      "Act Space: 2\n",
      "==== Running Eval ====\n"
     ]
    },
    {
     "name": "stderr",
     "output_type": "stream",
     "text": [
      "100%|██████████| 1/1 [00:15<00:00, 15.49s/it]\n",
      "100%|██████████| 1/1 [00:14<00:00, 14.53s/it]\n",
      "100%|██████████| 1/1 [00:14<00:00, 14.38s/it]\n",
      "100%|██████████| 1/1 [00:17<00:00, 17.12s/it]\n",
      "100%|██████████| 1/1 [00:16<00:00, 16.30s/it]\n",
      "100%|██████████| 1/1 [00:17<00:00, 17.36s/it]\n",
      "100%|██████████| 1/1 [00:14<00:00, 14.52s/it]\n",
      "100%|██████████| 1/1 [00:17<00:00, 17.11s/it]\n"
     ]
    },
    {
     "name": "stdout",
     "output_type": "stream",
     "text": [
      "Avg. Completion: 0.9950000000000001\n",
      "91\n",
      "# of Unique Generated Trajectories: 91\n",
      "# of New Generated Trajectories: 49\n",
      "% of Generated Trajectories Novel: 0.5384615384615384\n",
      "==== Unconditional EqNet  ====\n",
      "Model Path: DP-EqNet-PosEnc-gridland-n5-1c240542diffusion_ckpt_250000.pt\n",
      "Name: <GridLand instance>\n",
      "Obs Space: 2\n",
      "Act Space: 2\n",
      "==== Running Eval ====\n"
     ]
    },
    {
     "name": "stderr",
     "output_type": "stream",
     "text": [
      "100%|██████████| 1/1 [00:15<00:00, 15.28s/it]\n",
      "100%|██████████| 1/1 [00:14<00:00, 14.14s/it]\n",
      "100%|██████████| 1/1 [00:15<00:00, 15.39s/it]\n",
      "100%|██████████| 1/1 [00:14<00:00, 14.91s/it]\n",
      "100%|██████████| 1/1 [00:15<00:00, 15.80s/it]\n",
      "100%|██████████| 1/1 [00:17<00:00, 17.20s/it]\n",
      "100%|██████████| 1/1 [00:16<00:00, 16.37s/it]\n",
      "100%|██████████| 1/1 [00:17<00:00, 17.03s/it]\n"
     ]
    },
    {
     "name": "stdout",
     "output_type": "stream",
     "text": [
      "Avg. Completion: 0.9950000000000001\n",
      "84\n",
      "# of Unique Generated Trajectories: 84\n",
      "# of New Generated Trajectories: 42\n",
      "% of Generated Trajectories Novel: 0.5\n",
      "==== Unconditional EqNet  ====\n",
      "Model Path: DP-EqNet-PosEnc-gridland-n5-1c240542diffusion_ckpt_300000.pt\n",
      "Name: <GridLand instance>\n",
      "Obs Space: 2\n",
      "Act Space: 2\n",
      "==== Running Eval ====\n"
     ]
    },
    {
     "name": "stderr",
     "output_type": "stream",
     "text": [
      "100%|██████████| 1/1 [00:15<00:00, 15.35s/it]\n",
      "100%|██████████| 1/1 [00:14<00:00, 14.07s/it]\n",
      "100%|██████████| 1/1 [00:15<00:00, 15.52s/it]\n",
      "100%|██████████| 1/1 [00:16<00:00, 16.17s/it]\n",
      "100%|██████████| 1/1 [00:16<00:00, 16.20s/it]\n",
      "100%|██████████| 1/1 [00:14<00:00, 14.98s/it]\n",
      "100%|██████████| 1/1 [00:17<00:00, 17.87s/it]\n",
      "100%|██████████| 1/1 [00:16<00:00, 16.58s/it]\n"
     ]
    },
    {
     "name": "stdout",
     "output_type": "stream",
     "text": [
      "Avg. Completion: 0.9962500000000001\n",
      "87\n",
      "# of Unique Generated Trajectories: 87\n",
      "# of New Generated Trajectories: 45\n",
      "% of Generated Trajectories Novel: 0.5172413793103449\n",
      "==== Unconditional EqNet  ====\n",
      "Model Path: DP-EqNet-PosEnc-gridland-n5-1c240542diffusion_ckpt_350000.pt\n",
      "Name: <GridLand instance>\n",
      "Obs Space: 2\n",
      "Act Space: 2\n",
      "==== Running Eval ====\n"
     ]
    },
    {
     "name": "stderr",
     "output_type": "stream",
     "text": [
      "100%|██████████| 1/1 [00:16<00:00, 16.15s/it]\n",
      "100%|██████████| 1/1 [00:15<00:00, 15.87s/it]\n",
      "100%|██████████| 1/1 [00:18<00:00, 18.19s/it]\n",
      "100%|██████████| 1/1 [00:16<00:00, 16.60s/it]\n",
      "100%|██████████| 1/1 [00:15<00:00, 15.69s/it]\n",
      "100%|██████████| 1/1 [00:14<00:00, 14.23s/it]\n",
      "100%|██████████| 1/1 [00:15<00:00, 15.63s/it]\n",
      "100%|██████████| 1/1 [00:14<00:00, 14.42s/it]\n"
     ]
    },
    {
     "name": "stdout",
     "output_type": "stream",
     "text": [
      "Avg. Completion: 0.99625\n",
      "76\n",
      "# of Unique Generated Trajectories: 76\n",
      "# of New Generated Trajectories: 34\n",
      "% of Generated Trajectories Novel: 0.4473684210526316\n",
      "==== Unconditional EqNet  ====\n",
      "Model Path: DP-EqNet-PosEnc-gridland-n5-1c240542diffusion_ckpt_400000.pt\n",
      "Name: <GridLand instance>\n",
      "Obs Space: 2\n",
      "Act Space: 2\n",
      "==== Running Eval ====\n"
     ]
    },
    {
     "name": "stderr",
     "output_type": "stream",
     "text": [
      "100%|██████████| 1/1 [00:14<00:00, 14.42s/it]\n",
      "100%|██████████| 1/1 [00:14<00:00, 14.28s/it]\n",
      "100%|██████████| 1/1 [00:16<00:00, 16.85s/it]\n",
      "100%|██████████| 1/1 [00:16<00:00, 16.36s/it]\n",
      "100%|██████████| 1/1 [00:15<00:00, 15.89s/it]\n",
      "100%|██████████| 1/1 [00:14<00:00, 14.89s/it]\n",
      "100%|██████████| 1/1 [00:16<00:00, 16.04s/it]\n",
      "100%|██████████| 1/1 [00:15<00:00, 15.22s/it]\n"
     ]
    },
    {
     "name": "stdout",
     "output_type": "stream",
     "text": [
      "Avg. Completion: 0.9975\n",
      "84\n",
      "# of Unique Generated Trajectories: 84\n",
      "# of New Generated Trajectories: 42\n",
      "% of Generated Trajectories Novel: 0.5\n",
      "==== Unconditional EqNet  ====\n",
      "Model Path: DP-EqNet-PosEnc-gridland-n5-1c240542diffusion_ckpt_450000.pt\n",
      "Name: <GridLand instance>\n",
      "Obs Space: 2\n",
      "Act Space: 2\n",
      "==== Running Eval ====\n"
     ]
    },
    {
     "name": "stderr",
     "output_type": "stream",
     "text": [
      "100%|██████████| 1/1 [00:15<00:00, 15.01s/it]\n",
      "100%|██████████| 1/1 [00:16<00:00, 16.64s/it]\n",
      "100%|██████████| 1/1 [00:14<00:00, 14.58s/it]\n",
      "100%|██████████| 1/1 [00:15<00:00, 15.21s/it]\n",
      "100%|██████████| 1/1 [00:16<00:00, 16.56s/it]\n",
      "100%|██████████| 1/1 [00:16<00:00, 16.94s/it]\n",
      "100%|██████████| 1/1 [00:14<00:00, 14.41s/it]\n",
      "100%|██████████| 1/1 [00:15<00:00, 15.86s/it]\n"
     ]
    },
    {
     "name": "stdout",
     "output_type": "stream",
     "text": [
      "Avg. Completion: 0.9937500000000001\n",
      "86\n",
      "# of Unique Generated Trajectories: 86\n",
      "# of New Generated Trajectories: 44\n",
      "% of Generated Trajectories Novel: 0.5116279069767442\n",
      "==== Unconditional EqNet  ====\n",
      "Model Path: DP-EqNet-PosEnc-gridland-n5-1c240542diffusion_ckpt_500000.pt\n",
      "Name: <GridLand instance>\n",
      "Obs Space: 2\n",
      "Act Space: 2\n",
      "==== Running Eval ====\n"
     ]
    },
    {
     "name": "stderr",
     "output_type": "stream",
     "text": [
      "100%|██████████| 1/1 [00:16<00:00, 16.73s/it]\n",
      "100%|██████████| 1/1 [00:15<00:00, 15.96s/it]\n",
      "100%|██████████| 1/1 [00:16<00:00, 16.62s/it]\n",
      "100%|██████████| 1/1 [00:17<00:00, 17.00s/it]\n",
      "100%|██████████| 1/1 [00:14<00:00, 14.61s/it]\n",
      "100%|██████████| 1/1 [00:17<00:00, 17.05s/it]\n",
      "100%|██████████| 1/1 [00:14<00:00, 14.96s/it]\n",
      "100%|██████████| 1/1 [00:17<00:00, 17.05s/it]\n"
     ]
    },
    {
     "name": "stdout",
     "output_type": "stream",
     "text": [
      "Avg. Completion: 0.99375\n",
      "80\n",
      "# of Unique Generated Trajectories: 80\n",
      "# of New Generated Trajectories: 38\n",
      "% of Generated Trajectories Novel: 0.475\n"
     ]
    }
   ],
   "source": [
    "### overfitging stuff Eq-Net\n",
    "model_paths = [\n",
    "                'DP-EqNet-PosEnc-gridland-n5-1c240542diffusion_ckpt_50000.pt',\n",
    "                'DP-EqNet-PosEnc-gridland-n5-1c240542diffusion_ckpt_100000.pt',\n",
    "                'DP-EqNet-PosEnc-gridland-n5-1c240542diffusion_ckpt_150000.pt',\n",
    "                'DP-EqNet-PosEnc-gridland-n5-1c240542diffusion_ckpt_200000.pt',\n",
    "                'DP-EqNet-PosEnc-gridland-n5-1c240542diffusion_ckpt_250000.pt',\n",
    "                'DP-EqNet-PosEnc-gridland-n5-1c240542diffusion_ckpt_300000.pt',\n",
    "                'DP-EqNet-PosEnc-gridland-n5-1c240542diffusion_ckpt_350000.pt',\n",
    "                'DP-EqNet-PosEnc-gridland-n5-1c240542diffusion_ckpt_400000.pt',\n",
    "                'DP-EqNet-PosEnc-gridland-n5-1c240542diffusion_ckpt_450000.pt',\n",
    "                'DP-EqNet-PosEnc-gridland-n5-1c240542diffusion_ckpt_500000.pt'\n",
    "                ]\n",
    "for i in range(len(model_paths)):\n",
    "    config = DiffusionPlannerConfig()\n",
    "    config.memory = memory\n",
    "    config.horizon = horizon\n",
    "    config.num_envs = num_envs\n",
    "    config.num_episodes = num_episodes\n",
    "    config.n_exec_steps = n_exec_steps\n",
    "    config.env = env\n",
    "    config.inpaint = False\n",
    "    config.gridland = True\n",
    "    config.n_size = n_size\n",
    "    config.pad = False\n",
    "    config.gen_horizon = horizon\n",
    "    config.toy_env = True\n",
    "    config.open_loop_invdyn = False\n",
    "    config.use_shift_equivariant_arch = True\n",
    "    config.add_positional_encoding = True\n",
    "\n",
    "    # loads environment\n",
    "    envs = make_envs_and_datasets_gridland(n_size=config.n_size,num_envs = config.num_envs,env_only=True)\n",
    "    obs_dim, act_dim = envs.single_observation_space.shape[0], envs.single_action_space.shape[0]\n",
    "\n",
    "    # loads inverse dynamics\n",
    "    invdyn = ToyEnvInvDyn()\n",
    "    #invdyn.load(config.invdyn_path)\n",
    "\n",
    "    # loads agent \n",
    "    # --------------- Network Architecture -----------------# \n",
    "    #nn_diffusion = JannerUNet1dShiftEq(obs_dim)\n",
    "    #nn_diffusion = ConvNext1dShiftEq(obs_dim)\n",
    "    nn_diffusion = CNN1dShiftEq(obs_dim,\n",
    "                                        kernel_expansion_rate=config.kernel_expansion_rate,\n",
    "                                        model_dim = config.model_dim,\n",
    "                                        emb_dim = config.emb_dim,\n",
    "                                        encode_position=config.add_positional_encoding)\n",
    "\n",
    "\n",
    "    # ----------------- Masking -------------------\n",
    "    # NOTE - not sure what any of this does (should figure out!)\n",
    "    fix_mask = torch.zeros((config.horizon, obs_dim)) \n",
    "    fix_mask[0, :] = 1. # for the starting/current state\n",
    "    loss_weight = torch.ones((config.horizon, obs_dim))\n",
    "\n",
    "    # --------------- difuse --------------------\n",
    "    agent = DiscreteDiffusionSDE(\n",
    "            nn_diffusion, None,\n",
    "            fix_mask=fix_mask, loss_weight=loss_weight, classifier=None, ema_rate=config.ema_rate,\n",
    "            device=config.device, diffusion_steps=config.diffusion_steps, predict_noise=config.predict_noise)\n",
    "\n",
    "\n",
    "    #agent.load('appendix_models/DP-EqNet-KL-gridland-n5-51d1744cdiffusion_ckpt_latest.pt')\n",
    "\n",
    "    #agent.load('paper_models/DP-EqNet-PosEnc-gridland-n5-1c240542diffusion_ckpt_latest.pt')\n",
    "    agent.load('paper_models/' + model_paths[i])\n",
    "\n",
    "    # Environment info \n",
    "    print('==== Unconditional EqNet  ====')\n",
    "    print('Model Path:',model_paths[i])\n",
    "    print('Name:',config.env)\n",
    "    print('Obs Space:',obs_dim)\n",
    "    print('Act Space:',act_dim)\n",
    "    # main evaluation loop\n",
    "    print('==== Running Eval ====')\n",
    "    avg_completion = 0\n",
    "    trajectories = []\n",
    "    for i in range(num_samples):\n",
    "            envs.reset()\n",
    "            avg_completion_sample,trajectories_sample, replans = diffusion_planer_eval(agent,invdyn,envs,config,give_trajectory=True,give_replans=True)\n",
    "            # pads trajectory samples to 512\n",
    "            new_trajectory_samples = []\n",
    "            for traj in trajectories_sample:\n",
    "                    new_traj = np.pad(traj,((0,501-traj.shape[0]),(0,0),(0,0)),mode='edge')\n",
    "                    #print(new_traj.shape)\n",
    "                    new_trajectory_samples.append(new_traj)\n",
    "            avg_completion += avg_completion_sample\n",
    "            trajectories += new_trajectory_samples\n",
    "    avg_completion = avg_completion / num_samples\n",
    "    print('Avg. Completion:',avg_completion)\n",
    "\n",
    "    if visualize:\n",
    "            env = GridLand(n_size=n_size,timeout = 500)\n",
    "            env.reset()\n",
    "            fig, ax = env.get_mpl_plot()\n",
    "            #print('replans',np.array(replans).shape)\n",
    "            #ax.scatter(trajectories[0][:,:,0],trajectories[0][:,:,1],c=range(len(trajectories[0])),s=5,label='Executed Trajectory')\n",
    "            if num_envs == 1:\n",
    "                    ax.scatter(trajectories[0][:,:,0],trajectories[0][:,:,1],c='black',s=5,label='Executed Trajectory',alpha=0.2,zorder=100)\n",
    "            else:\n",
    "                    ax.scatter(trajectories[0][:,:,0],trajectories[0][:,:,1],c='black',s=5,label='Executed Trajectory',alpha=0.05,zorder=100)\n",
    "            #ax.scatter(replans[0][0,:,0],replans[0][0,:,1],c='y',s=5,label='Plan')\n",
    "            #ax.scatter(trajectories[0][:,:,0],trajectories[0][:,:,1],c=range(len(trajectories[0])),s=5,label='Executed Trajectory')\n",
    "\n",
    "\n",
    "            if num_envs == 1:\n",
    "                    if n_exec_steps != horizon:\n",
    "                            replan_colors = colormaps['plasma_r']\n",
    "                            gradient = np.linspace(0, 1, len(replans[0]))\n",
    "                            for i,replan in enumerate(replans[0]):\n",
    "                                    #print(replan.shape)\n",
    "                                    ax.scatter(replan[:,0],replan[:,1],color=replan_colors(gradient[i]),s=5,label='Plan' + str(i),zorder=10-i)\n",
    "                    else:\n",
    "                            replan_colors = colormaps['plasma_r']\n",
    "                            gradient = np.linspace(0, 1, len(replans[0]))\n",
    "                            thingy = ax.scatter(replans[0][0][:,0],replans[0][0][:,1],c=range(len(replans[0][0][:,0])),s=5,label='Plan' + str(i),zorder=10-i)\n",
    "                            fig.colorbar(thingy)\n",
    "\n",
    "\n",
    "            #print(trajectories[0].shape)\n",
    "                    visited_intersections,visited_intersection_idx = find_trajectory_keypoints(trajectories[0].reshape(trajectories[0].shape[0],2), env,tolerance=0.06)\n",
    "            #print(visited_intersections.shape)\n",
    "                    ax.scatter(visited_intersections[:,0],visited_intersections[:,1],label='visited',color='red')\n",
    "            ax.legend()\n",
    "    traj_visitations = []\n",
    "    trajectories = np.array(trajectories)\n",
    "    trajectories = np.transpose(trajectories,(0,2,1,3))\n",
    "    #print(trajectories.shape)\n",
    "    for ep in trajectories:\n",
    "            for trajectory in ep:\n",
    "                    #print(trajectory.shape)\n",
    "                    visited_intersections, visited_intersections_idx = find_trajectory_keypoints(trajectory,env)\n",
    "                    traj_visitations.append(visited_intersections_idx)\n",
    "    generated_trajectory_visitations = get_trajectory_sets(traj_visitations)\n",
    "    filtered_trajectories = filter_successful_trajectories(generated_trajectory_visitations,goals=(5,0))\n",
    "    print(len(filtered_trajectories))\n",
    "    print('# of Unique Generated Trajectories:',len(filtered_trajectories))\n",
    "    print('# of New Generated Trajectories:', len(filtered_trajectories-training_trajectory_visitations))\n",
    "    print('% of Generated Trajectories Novel:', len(filtered_trajectories-training_trajectory_visitations)/len(filtered_trajectories))\n",
    "    #training_trajectory_visitations\n"
   ]
  },
  {
   "cell_type": "code",
   "execution_count": null,
   "id": "3b2d9fc3",
   "metadata": {},
   "outputs": [
    {
     "name": "stdout",
     "output_type": "stream",
     "text": [
      "==== Unconditional EqNet  ====\n",
      "Model Path: DP-EqNet-gridland-n5-65b714e6diffusion_ckpt_50000.pt\n",
      "Name: <GridLand instance>\n",
      "Obs Space: 2\n",
      "Act Space: 2\n",
      "==== Running Eval ====\n"
     ]
    },
    {
     "name": "stderr",
     "output_type": "stream",
     "text": [
      "100%|██████████| 1/1 [00:14<00:00, 14.61s/it]\n",
      "100%|██████████| 1/1 [00:14<00:00, 14.37s/it]\n",
      "100%|██████████| 1/1 [00:14<00:00, 14.13s/it]\n",
      "100%|██████████| 1/1 [00:13<00:00, 13.91s/it]\n",
      "100%|██████████| 1/1 [00:13<00:00, 13.75s/it]\n",
      "100%|██████████| 1/1 [00:13<00:00, 13.60s/it]\n",
      "100%|██████████| 1/1 [00:13<00:00, 13.98s/it]\n",
      "100%|██████████| 1/1 [00:13<00:00, 13.34s/it]\n"
     ]
    },
    {
     "name": "stdout",
     "output_type": "stream",
     "text": [
      "Avg. Completion: 0.39125\n",
      "78\n",
      "# of Unique Generated Trajectories: 78\n",
      "# of New Generated Trajectories: 67\n",
      "% of Generated Trajectories Novel: 0.8589743589743589\n",
      "==== Unconditional EqNet  ====\n",
      "Model Path: DP-EqNet-gridland-n5-65b714e6diffusion_ckpt_100000.pt\n",
      "Name: <GridLand instance>\n",
      "Obs Space: 2\n",
      "Act Space: 2\n",
      "==== Running Eval ====\n"
     ]
    },
    {
     "name": "stderr",
     "output_type": "stream",
     "text": [
      "100%|██████████| 1/1 [00:13<00:00, 13.66s/it]\n",
      "100%|██████████| 1/1 [00:13<00:00, 13.84s/it]\n",
      "100%|██████████| 1/1 [00:13<00:00, 13.31s/it]\n",
      "100%|██████████| 1/1 [00:12<00:00, 12.62s/it]\n",
      "100%|██████████| 1/1 [00:13<00:00, 13.91s/it]\n",
      "100%|██████████| 1/1 [00:12<00:00, 12.68s/it]\n",
      "100%|██████████| 1/1 [00:13<00:00, 13.61s/it]\n",
      "100%|██████████| 1/1 [00:13<00:00, 13.77s/it]\n"
     ]
    },
    {
     "name": "stdout",
     "output_type": "stream",
     "text": [
      "Avg. Completion: 0.9874999999999999\n",
      "137\n",
      "# of Unique Generated Trajectories: 137\n",
      "# of New Generated Trajectories: 95\n",
      "% of Generated Trajectories Novel: 0.6934306569343066\n",
      "==== Unconditional EqNet  ====\n",
      "Model Path: DP-EqNet-gridland-n5-65b714e6diffusion_ckpt_150000.pt\n",
      "Name: <GridLand instance>\n",
      "Obs Space: 2\n",
      "Act Space: 2\n",
      "==== Running Eval ====\n"
     ]
    },
    {
     "name": "stderr",
     "output_type": "stream",
     "text": [
      "100%|██████████| 1/1 [00:13<00:00, 13.21s/it]\n",
      "100%|██████████| 1/1 [00:12<00:00, 12.42s/it]\n",
      "100%|██████████| 1/1 [00:13<00:00, 13.54s/it]\n",
      "100%|██████████| 1/1 [00:12<00:00, 12.15s/it]\n",
      "100%|██████████| 1/1 [00:13<00:00, 13.59s/it]\n",
      "100%|██████████| 1/1 [00:12<00:00, 12.40s/it]\n",
      "100%|██████████| 1/1 [00:12<00:00, 12.48s/it]\n",
      "100%|██████████| 1/1 [00:13<00:00, 13.45s/it]\n"
     ]
    },
    {
     "name": "stdout",
     "output_type": "stream",
     "text": [
      "Avg. Completion: 0.995\n",
      "129\n",
      "# of Unique Generated Trajectories: 129\n",
      "# of New Generated Trajectories: 87\n",
      "% of Generated Trajectories Novel: 0.6744186046511628\n",
      "==== Unconditional EqNet  ====\n",
      "Model Path: DP-EqNet-gridland-n5-65b714e6diffusion_ckpt_200000.pt\n",
      "Name: <GridLand instance>\n",
      "Obs Space: 2\n",
      "Act Space: 2\n",
      "==== Running Eval ====\n"
     ]
    },
    {
     "name": "stderr",
     "output_type": "stream",
     "text": [
      "100%|██████████| 1/1 [00:14<00:00, 14.56s/it]\n",
      "100%|██████████| 1/1 [00:14<00:00, 14.41s/it]\n",
      "100%|██████████| 1/1 [00:12<00:00, 12.97s/it]\n",
      "100%|██████████| 1/1 [00:12<00:00, 12.99s/it]\n",
      "100%|██████████| 1/1 [00:14<00:00, 14.62s/it]\n",
      "100%|██████████| 1/1 [00:14<00:00, 14.81s/it]\n",
      "100%|██████████| 1/1 [00:15<00:00, 15.04s/it]\n",
      "100%|██████████| 1/1 [00:14<00:00, 14.80s/it]\n"
     ]
    },
    {
     "name": "stdout",
     "output_type": "stream",
     "text": [
      "Avg. Completion: 0.98875\n",
      "114\n",
      "# of Unique Generated Trajectories: 114\n",
      "# of New Generated Trajectories: 73\n",
      "% of Generated Trajectories Novel: 0.6403508771929824\n",
      "==== Unconditional EqNet  ====\n",
      "Model Path: DP-EqNet-gridland-n5-65b714e6diffusion_ckpt_250000.pt\n",
      "Name: <GridLand instance>\n",
      "Obs Space: 2\n",
      "Act Space: 2\n",
      "==== Running Eval ====\n"
     ]
    },
    {
     "name": "stderr",
     "output_type": "stream",
     "text": [
      "100%|██████████| 1/1 [00:14<00:00, 14.72s/it]\n",
      "100%|██████████| 1/1 [00:14<00:00, 14.28s/it]\n",
      "100%|██████████| 1/1 [00:12<00:00, 12.16s/it]\n",
      "100%|██████████| 1/1 [00:12<00:00, 12.50s/it]\n",
      "100%|██████████| 1/1 [00:12<00:00, 12.36s/it]\n",
      "100%|██████████| 1/1 [00:14<00:00, 14.12s/it]\n",
      "100%|██████████| 1/1 [00:12<00:00, 12.55s/it]\n",
      "100%|██████████| 1/1 [00:13<00:00, 13.81s/it]\n"
     ]
    },
    {
     "name": "stdout",
     "output_type": "stream",
     "text": [
      "Avg. Completion: 0.9937500000000001\n",
      "105\n",
      "# of Unique Generated Trajectories: 105\n",
      "# of New Generated Trajectories: 63\n",
      "% of Generated Trajectories Novel: 0.6\n",
      "==== Unconditional EqNet  ====\n",
      "Model Path: DP-EqNet-gridland-n5-65b714e6diffusion_ckpt_300000.pt\n",
      "Name: <GridLand instance>\n",
      "Obs Space: 2\n",
      "Act Space: 2\n",
      "==== Running Eval ====\n"
     ]
    },
    {
     "name": "stderr",
     "output_type": "stream",
     "text": [
      "100%|██████████| 1/1 [00:12<00:00, 12.37s/it]\n",
      "100%|██████████| 1/1 [00:12<00:00, 12.45s/it]\n",
      "100%|██████████| 1/1 [00:13<00:00, 13.32s/it]\n",
      "100%|██████████| 1/1 [00:13<00:00, 13.53s/it]\n",
      "100%|██████████| 1/1 [00:14<00:00, 14.11s/it]\n",
      "100%|██████████| 1/1 [00:12<00:00, 12.36s/it]\n",
      "100%|██████████| 1/1 [00:13<00:00, 13.75s/it]\n",
      "100%|██████████| 1/1 [00:12<00:00, 12.70s/it]\n"
     ]
    },
    {
     "name": "stdout",
     "output_type": "stream",
     "text": [
      "Avg. Completion: 0.9950000000000001\n",
      "105\n",
      "# of Unique Generated Trajectories: 105\n",
      "# of New Generated Trajectories: 63\n",
      "% of Generated Trajectories Novel: 0.6\n",
      "==== Unconditional EqNet  ====\n",
      "Model Path: DP-EqNet-gridland-n5-65b714e6diffusion_ckpt_350000.pt\n",
      "Name: <GridLand instance>\n",
      "Obs Space: 2\n",
      "Act Space: 2\n",
      "==== Running Eval ====\n"
     ]
    },
    {
     "name": "stderr",
     "output_type": "stream",
     "text": [
      "100%|██████████| 1/1 [00:12<00:00, 12.63s/it]\n",
      "100%|██████████| 1/1 [00:13<00:00, 13.69s/it]\n",
      "100%|██████████| 1/1 [00:12<00:00, 12.58s/it]\n",
      "100%|██████████| 1/1 [00:12<00:00, 12.41s/it]\n",
      "100%|██████████| 1/1 [00:12<00:00, 12.56s/it]\n",
      "100%|██████████| 1/1 [00:13<00:00, 13.64s/it]\n",
      "100%|██████████| 1/1 [00:12<00:00, 12.49s/it]\n",
      "100%|██████████| 1/1 [00:13<00:00, 13.34s/it]\n"
     ]
    },
    {
     "name": "stdout",
     "output_type": "stream",
     "text": [
      "Avg. Completion: 0.9962500000000001\n",
      "102\n",
      "# of Unique Generated Trajectories: 102\n",
      "# of New Generated Trajectories: 60\n",
      "% of Generated Trajectories Novel: 0.5882352941176471\n",
      "==== Unconditional EqNet  ====\n",
      "Model Path: DP-EqNet-gridland-n5-65b714e6diffusion_ckpt_400000.pt\n",
      "Name: <GridLand instance>\n",
      "Obs Space: 2\n",
      "Act Space: 2\n",
      "==== Running Eval ====\n"
     ]
    },
    {
     "name": "stderr",
     "output_type": "stream",
     "text": [
      "100%|██████████| 1/1 [00:12<00:00, 12.63s/it]\n",
      "100%|██████████| 1/1 [00:12<00:00, 12.31s/it]\n",
      "100%|██████████| 1/1 [00:13<00:00, 13.46s/it]\n",
      "100%|██████████| 1/1 [00:12<00:00, 12.79s/it]\n",
      "100%|██████████| 1/1 [00:12<00:00, 12.59s/it]\n",
      "100%|██████████| 1/1 [00:12<00:00, 12.67s/it]\n",
      "100%|██████████| 1/1 [00:14<00:00, 14.43s/it]\n",
      "100%|██████████| 1/1 [00:12<00:00, 12.72s/it]\n"
     ]
    },
    {
     "name": "stdout",
     "output_type": "stream",
     "text": [
      "Avg. Completion: 0.9962500000000001\n",
      "100\n",
      "# of Unique Generated Trajectories: 100\n",
      "# of New Generated Trajectories: 58\n",
      "% of Generated Trajectories Novel: 0.58\n",
      "==== Unconditional EqNet  ====\n",
      "Model Path: DP-EqNet-gridland-n5-65b714e6diffusion_ckpt_450000.pt\n",
      "Name: <GridLand instance>\n",
      "Obs Space: 2\n",
      "Act Space: 2\n",
      "==== Running Eval ====\n"
     ]
    },
    {
     "name": "stderr",
     "output_type": "stream",
     "text": [
      "100%|██████████| 1/1 [00:12<00:00, 12.52s/it]\n",
      "100%|██████████| 1/1 [00:12<00:00, 12.38s/it]\n",
      "100%|██████████| 1/1 [00:13<00:00, 13.41s/it]\n",
      "100%|██████████| 1/1 [00:13<00:00, 13.63s/it]\n",
      "100%|██████████| 1/1 [00:14<00:00, 14.06s/it]\n",
      "100%|██████████| 1/1 [00:13<00:00, 13.09s/it]\n",
      "100%|██████████| 1/1 [00:12<00:00, 12.87s/it]\n",
      "100%|██████████| 1/1 [00:13<00:00, 13.95s/it]\n"
     ]
    },
    {
     "name": "stdout",
     "output_type": "stream",
     "text": [
      "Avg. Completion: 0.9950000000000001\n",
      "105\n",
      "# of Unique Generated Trajectories: 105\n",
      "# of New Generated Trajectories: 63\n",
      "% of Generated Trajectories Novel: 0.6\n",
      "==== Unconditional EqNet  ====\n",
      "Model Path: DP-EqNet-gridland-n5-65b714e6diffusion_ckpt_500000.pt\n",
      "Name: <GridLand instance>\n",
      "Obs Space: 2\n",
      "Act Space: 2\n",
      "==== Running Eval ====\n"
     ]
    },
    {
     "name": "stderr",
     "output_type": "stream",
     "text": [
      "100%|██████████| 1/1 [00:12<00:00, 12.72s/it]\n",
      "100%|██████████| 1/1 [00:12<00:00, 12.57s/it]\n",
      "100%|██████████| 1/1 [00:12<00:00, 12.40s/it]\n",
      "100%|██████████| 1/1 [00:12<00:00, 12.29s/it]\n",
      "100%|██████████| 1/1 [00:12<00:00, 12.67s/it]\n",
      "100%|██████████| 1/1 [00:12<00:00, 12.81s/it]\n",
      "100%|██████████| 1/1 [00:12<00:00, 12.67s/it]\n",
      "100%|██████████| 1/1 [00:14<00:00, 14.03s/it]\n"
     ]
    },
    {
     "name": "stdout",
     "output_type": "stream",
     "text": [
      "Avg. Completion: 0.99875\n",
      "104\n",
      "# of Unique Generated Trajectories: 104\n",
      "# of New Generated Trajectories: 62\n",
      "% of Generated Trajectories Novel: 0.5961538461538461\n"
     ]
    }
   ],
   "source": [
    "### overfitging stuff Eq-Net\n",
    "model_paths = [\n",
    "                'DP-EqNet-gridland-n5-65b714e6diffusion_ckpt_50000.pt',\n",
    "                'DP-EqNet-gridland-n5-65b714e6diffusion_ckpt_100000.pt',\n",
    "                'DP-EqNet-gridland-n5-65b714e6diffusion_ckpt_150000.pt',\n",
    "                'DP-EqNet-gridland-n5-65b714e6diffusion_ckpt_200000.pt',\n",
    "                'DP-EqNet-gridland-n5-65b714e6diffusion_ckpt_250000.pt',\n",
    "                'DP-EqNet-gridland-n5-65b714e6diffusion_ckpt_300000.pt',\n",
    "                'DP-EqNet-gridland-n5-65b714e6diffusion_ckpt_350000.pt',\n",
    "                'DP-EqNet-gridland-n5-65b714e6diffusion_ckpt_400000.pt',\n",
    "                'DP-EqNet-gridland-n5-65b714e6diffusion_ckpt_450000.pt',\n",
    "                'DP-EqNet-gridland-n5-65b714e6diffusion_ckpt_500000.pt'\n",
    "                ]\n",
    "for i in range(len(model_paths)):\n",
    "    config = DiffusionPlannerConfig()\n",
    "    config.memory = memory\n",
    "    config.horizon = horizon\n",
    "    config.num_envs = num_envs\n",
    "    config.num_episodes = num_episodes\n",
    "    config.n_exec_steps = n_exec_steps\n",
    "    config.env = env\n",
    "    config.inpaint = False\n",
    "    config.gridland = True\n",
    "    config.n_size = n_size\n",
    "    config.pad = False\n",
    "    config.gen_horizon = horizon\n",
    "    config.toy_env = True\n",
    "    config.open_loop_invdyn = False\n",
    "    config.use_shift_equivariant_arch = True\n",
    "    config.add_positional_encoding = False\n",
    "\n",
    "    # loads environment\n",
    "    envs = make_envs_and_datasets_gridland(n_size=config.n_size,num_envs = config.num_envs,env_only=True)\n",
    "    obs_dim, act_dim = envs.single_observation_space.shape[0], envs.single_action_space.shape[0]\n",
    "\n",
    "    # loads inverse dynamics\n",
    "    invdyn = ToyEnvInvDyn()\n",
    "    #invdyn.load(config.invdyn_path)\n",
    "\n",
    "    # loads agent \n",
    "    # --------------- Network Architecture -----------------# \n",
    "    #nn_diffusion = JannerUNet1dShiftEq(obs_dim)\n",
    "    #nn_diffusion = ConvNext1dShiftEq(obs_dim)\n",
    "    nn_diffusion = CNN1dShiftEq(obs_dim,\n",
    "                                        kernel_expansion_rate=config.kernel_expansion_rate,\n",
    "                                        model_dim = config.model_dim,\n",
    "                                        emb_dim = config.emb_dim,\n",
    "                                        encode_position=config.add_positional_encoding)\n",
    "\n",
    "\n",
    "    # ----------------- Masking -------------------\n",
    "    # NOTE - not sure what any of this does (should figure out!)\n",
    "    fix_mask = torch.zeros((config.horizon, obs_dim)) \n",
    "    fix_mask[0, :] = 1. # for the starting/current state\n",
    "    loss_weight = torch.ones((config.horizon, obs_dim))\n",
    "\n",
    "    # --------------- difuse --------------------\n",
    "    agent = DiscreteDiffusionSDE(\n",
    "            nn_diffusion, None,\n",
    "            fix_mask=fix_mask, loss_weight=loss_weight, classifier=None, ema_rate=config.ema_rate,\n",
    "            device=config.device, diffusion_steps=config.diffusion_steps, predict_noise=config.predict_noise)\n",
    "\n",
    "\n",
    "    #agent.load('appendix_models/DP-EqNet-KL-gridland-n5-51d1744cdiffusion_ckpt_latest.pt')\n",
    "\n",
    "    #agent.load('paper_models/DP-EqNet-PosEnc-gridland-n5-1c240542diffusion_ckpt_latest.pt')\n",
    "    agent.load('paper_models/' + model_paths[i])\n",
    "\n",
    "    # Environment info \n",
    "    print('==== Unconditional EqNet  ====')\n",
    "    print('Model Path:',model_paths[i])\n",
    "    print('Name:',config.env)\n",
    "    print('Obs Space:',obs_dim)\n",
    "    print('Act Space:',act_dim)\n",
    "    # main evaluation loop\n",
    "    print('==== Running Eval ====')\n",
    "    avg_completion = 0\n",
    "    trajectories = []\n",
    "    for i in range(num_samples):\n",
    "            envs.reset()\n",
    "            avg_completion_sample,trajectories_sample, replans = diffusion_planer_eval(agent,invdyn,envs,config,give_trajectory=True,give_replans=True)\n",
    "            # pads trajectory samples to 512\n",
    "            new_trajectory_samples = []\n",
    "            for traj in trajectories_sample:\n",
    "                    new_traj = np.pad(traj,((0,501-traj.shape[0]),(0,0),(0,0)),mode='edge')\n",
    "                    #print(new_traj.shape)\n",
    "                    new_trajectory_samples.append(new_traj)\n",
    "            avg_completion += avg_completion_sample\n",
    "            trajectories += new_trajectory_samples\n",
    "    avg_completion = avg_completion / num_samples\n",
    "    print('Avg. Completion:',avg_completion)\n",
    "\n",
    "    if visualize:\n",
    "            env = GridLand(n_size=n_size,timeout = 500)\n",
    "            env.reset()\n",
    "            fig, ax = env.get_mpl_plot()\n",
    "            #print('replans',np.array(replans).shape)\n",
    "            #ax.scatter(trajectories[0][:,:,0],trajectories[0][:,:,1],c=range(len(trajectories[0])),s=5,label='Executed Trajectory')\n",
    "            if num_envs == 1:\n",
    "                    ax.scatter(trajectories[0][:,:,0],trajectories[0][:,:,1],c='black',s=5,label='Executed Trajectory',alpha=0.2,zorder=100)\n",
    "            else:\n",
    "                    ax.scatter(trajectories[0][:,:,0],trajectories[0][:,:,1],c='black',s=5,label='Executed Trajectory',alpha=0.05,zorder=100)\n",
    "            #ax.scatter(replans[0][0,:,0],replans[0][0,:,1],c='y',s=5,label='Plan')\n",
    "            #ax.scatter(trajectories[0][:,:,0],trajectories[0][:,:,1],c=range(len(trajectories[0])),s=5,label='Executed Trajectory')\n",
    "\n",
    "\n",
    "            if num_envs == 1:\n",
    "                    if n_exec_steps != horizon:\n",
    "                            replan_colors = colormaps['plasma_r']\n",
    "                            gradient = np.linspace(0, 1, len(replans[0]))\n",
    "                            for i,replan in enumerate(replans[0]):\n",
    "                                    #print(replan.shape)\n",
    "                                    ax.scatter(replan[:,0],replan[:,1],color=replan_colors(gradient[i]),s=5,label='Plan' + str(i),zorder=10-i)\n",
    "                    else:\n",
    "                            replan_colors = colormaps['plasma_r']\n",
    "                            gradient = np.linspace(0, 1, len(replans[0]))\n",
    "                            thingy = ax.scatter(replans[0][0][:,0],replans[0][0][:,1],c=range(len(replans[0][0][:,0])),s=5,label='Plan' + str(i),zorder=10-i)\n",
    "                            fig.colorbar(thingy)\n",
    "\n",
    "\n",
    "            #print(trajectories[0].shape)\n",
    "                    visited_intersections,visited_intersection_idx = find_trajectory_keypoints(trajectories[0].reshape(trajectories[0].shape[0],2), env,tolerance=0.06)\n",
    "            #print(visited_intersections.shape)\n",
    "                    ax.scatter(visited_intersections[:,0],visited_intersections[:,1],label='visited',color='red')\n",
    "            ax.legend()\n",
    "    traj_visitations = []\n",
    "    trajectories = np.array(trajectories)\n",
    "    trajectories = np.transpose(trajectories,(0,2,1,3))\n",
    "    #print(trajectories.shape)\n",
    "    for ep in trajectories:\n",
    "            for trajectory in ep:\n",
    "                    #print(trajectory.shape)\n",
    "                    visited_intersections, visited_intersections_idx = find_trajectory_keypoints(trajectory,env)\n",
    "                    traj_visitations.append(visited_intersections_idx)\n",
    "    generated_trajectory_visitations = get_trajectory_sets(traj_visitations)\n",
    "    filtered_trajectories = filter_successful_trajectories(generated_trajectory_visitations,goals=(5,0))\n",
    "    print(len(filtered_trajectories))\n",
    "    print('# of Unique Generated Trajectories:',len(filtered_trajectories))\n",
    "    print('# of New Generated Trajectories:', len(filtered_trajectories-training_trajectory_visitations))\n",
    "    print('% of Generated Trajectories Novel:', len(filtered_trajectories-training_trajectory_visitations)/len(filtered_trajectories))\n",
    "    #training_trajectory_visitations\n"
   ]
  },
  {
   "cell_type": "markdown",
   "id": "f600be28",
   "metadata": {},
   "source": [
    "## Kernel Size Change Experiments"
   ]
  },
  {
   "cell_type": "code",
   "execution_count": 34,
   "id": "3490f9c2",
   "metadata": {},
   "outputs": [
    {
     "name": "stderr",
     "output_type": "stream",
     "text": [
      "Processing trajectories: 100%|██████████| 25000/25000 [00:00<00:00, 1188174.64it/s]"
     ]
    },
    {
     "name": "stdout",
     "output_type": "stream",
     "text": [
      "(50, 500, 2)\n",
      "# of Unique Training Trajectories: 42\n",
      "Total # of Env: 800\n"
     ]
    },
    {
     "name": "stderr",
     "output_type": "stream",
     "text": [
      "\n"
     ]
    }
   ],
   "source": [
    "# imports, parameters, environment, etc.\n",
    "import torch\n",
    "import torch.nn as nn\n",
    "from utilities.ogbench_utilities import *\n",
    "from diffusion_planner import DiffusionPlannerConfig\n",
    "from diffusion_planner import eval_model as diffusion_planer_eval\n",
    "from utilities.cleandiffuser.invdynamic import MlpInvDynamic\n",
    "from utilities.cleandiffuser.diffusion import ContinuousDiffusionSDE\n",
    "from utilities.cleandiffuser.diffusion import DiscreteDiffusionSDE\n",
    "from utilities.cleandiffuser.nn_diffusion import JannerUNet1d,CNN1dShiftEq,ConvNext1dShiftEq\n",
    "from utilities.cleandiffuser.nn_condition import MLPCondition\n",
    "from utilities.gridland_environment import *\n",
    "from utilities.toy_env_utilities import ToyEnvInvDyn\n",
    "import matplotlib.pyplot as plt\n",
    "from matplotlib import colormaps\n",
    "env = 'gridland'\n",
    "n_size = 5\n",
    "memory = 1\n",
    "horizon = 512 # for generation so must be power of 2\n",
    "num_envs = 100\n",
    "num_samples = 8\n",
    "num_episodes = 1 # try not to change this i haven't validated it works and suspect heavily that it does not \n",
    "temperature = 0.5\n",
    "n_exec_steps = 512\n",
    "render = True\n",
    "visualize = False\n",
    "# gets the set of trajectories from the training data \n",
    "import numpy as np \n",
    "from utilities.gridland_environment import *\n",
    "from utilities.ogbench_utilities import GCSequenceDataset\n",
    "config = DiffusionPlannerConfig()\n",
    "config.horizon = 500\n",
    "config.gen_horizon = 512\n",
    "config.goal_sample_gamma = 0.99\n",
    "config.allow_partial_subsamples = False\n",
    "config.goal_padding = False\n",
    "envs, dataset, _ = make_envs_and_datasets_gridland(n_size=5,num_envs = config.num_envs)\n",
    "env = GridLand(n_size=5,timeout = 500)\n",
    "env.reset()\n",
    "train_dataset = GCSequenceDataset(dataset, config) # new sequence dataset\n",
    "batch = train_dataset.sample(idxs=range(50))\n",
    "#batch = train_dataset.sample()\n",
    "print(batch['observations'].shape)\n",
    "traj_visitations = []\n",
    "for trajectory in batch['observations']:\n",
    "    visited_intersections, visited_intersections_idx = find_trajectory_keypoints(trajectory,env)\n",
    "    traj_visitations.append(visited_intersections_idx)\n",
    "    #print(trajectory)\n",
    "training_trajectory_visitations = get_trajectory_sets(traj_visitations)\n",
    "print('# of Unique Training Trajectories:',len(training_trajectory_visitations))\n",
    "print('Total # of Env:',num_envs*num_samples)"
   ]
  },
  {
   "cell_type": "code",
   "execution_count": 35,
   "id": "232ca794",
   "metadata": {},
   "outputs": [
    {
     "name": "stdout",
     "output_type": "stream",
     "text": [
      "==== Unconditional EqNet Large Kernels ====\n",
      "Name: <GridLand instance>\n",
      "Obs Space: 2\n",
      "Act Space: 2\n",
      "==== Running Eval ====\n"
     ]
    },
    {
     "name": "stderr",
     "output_type": "stream",
     "text": [
      "100%|██████████| 1/1 [00:04<00:00,  4.55s/it]\n",
      "100%|██████████| 1/1 [00:04<00:00,  4.56s/it]\n",
      "100%|██████████| 1/1 [00:04<00:00,  4.91s/it]\n",
      "100%|██████████| 1/1 [00:04<00:00,  4.89s/it]\n",
      "100%|██████████| 1/1 [00:06<00:00,  6.52s/it]\n",
      "100%|██████████| 1/1 [00:05<00:00,  5.08s/it]\n",
      "100%|██████████| 1/1 [00:04<00:00,  4.88s/it]\n",
      "100%|██████████| 1/1 [00:05<00:00,  5.10s/it]\n"
     ]
    },
    {
     "name": "stdout",
     "output_type": "stream",
     "text": [
      "Avg. Completion: 1.0\n",
      "42\n",
      "# of Unique Generated Trajectories: 42\n",
      "# of New Generated Trajectories: 0\n",
      "% of Generated Trajectories Novel: 0.0\n"
     ]
    }
   ],
   "source": [
    "### eval for position equivaraint mode, large kernels (KER=2)\n",
    "config = DiffusionPlannerConfig()\n",
    "config.memory = memory\n",
    "config.horizon = horizon\n",
    "config.num_envs = num_envs\n",
    "config.num_episodes = num_episodes\n",
    "config.n_exec_steps = n_exec_steps\n",
    "config.env = env\n",
    "config.inpaint = False\n",
    "config.gridland = True\n",
    "config.n_size = n_size\n",
    "config.pad = False\n",
    "config.gen_horizon = horizon\n",
    "config.toy_env = True\n",
    "config.open_loop_invdyn = False\n",
    "config.use_shift_equivariant_arch = True\n",
    "config.add_positional_encoding = False\n",
    "config.kernel_expansion_rate = 2\n",
    "\n",
    "# loads environment\n",
    "envs = make_envs_and_datasets_gridland(n_size=config.n_size,num_envs = config.num_envs,env_only=True)\n",
    "obs_dim, act_dim = envs.single_observation_space.shape[0], envs.single_action_space.shape[0]\n",
    "\n",
    "# loads inverse dynamics\n",
    "invdyn = ToyEnvInvDyn()\n",
    "#invdyn.load(config.invdyn_path)\n",
    "\n",
    "# loads agent \n",
    "# --------------- Network Architecture -----------------# \n",
    "#nn_diffusion = JannerUNet1dShiftEq(obs_dim)\n",
    "#nn_diffusion = ConvNext1dShiftEq(obs_dim)\n",
    "nn_diffusion = CNN1dShiftEq(obs_dim,\n",
    "                                    kernel_expansion_rate=config.kernel_expansion_rate,\n",
    "                                    model_dim = config.model_dim,\n",
    "                                    emb_dim = config.emb_dim,\n",
    "                                    encode_position=config.add_positional_encoding)\n",
    "\n",
    "\n",
    "# ----------------- Masking -------------------\n",
    "# NOTE - not sure what any of this does (should figure out!)\n",
    "fix_mask = torch.zeros((config.horizon, obs_dim)) \n",
    "fix_mask[0, :] = 1. # for the starting/current state\n",
    "loss_weight = torch.ones((config.horizon, obs_dim))\n",
    "\n",
    "# --------------- difuse --------------------\n",
    "agent = DiscreteDiffusionSDE(\n",
    "        nn_diffusion, None,\n",
    "        fix_mask=fix_mask, loss_weight=loss_weight, classifier=None, ema_rate=config.ema_rate,\n",
    "        device=config.device, diffusion_steps=config.diffusion_steps, predict_noise=config.predict_noise)\n",
    "\n",
    "\n",
    "agent.load('appendix_models/DP-EqNet-KL-gridland-n5-51d1744cdiffusion_ckpt_latest.pt')\n",
    "\n",
    "#agent.load('paper_models/DP-EqNet-PosEnc-gridland-n5-1c240542diffusion_ckpt_latest.pt')\n",
    "\n",
    "# Environment info \n",
    "print('==== Unconditional EqNet Large Kernels ====')\n",
    "print('Name:',config.env)\n",
    "print('Obs Space:',obs_dim)\n",
    "print('Act Space:',act_dim)\n",
    "# main evaluation loop\n",
    "print('==== Running Eval ====')\n",
    "avg_completion = 0\n",
    "trajectories = []\n",
    "for i in range(num_samples):\n",
    "        envs.reset()\n",
    "        avg_completion_sample,trajectories_sample, replans = diffusion_planer_eval(agent,invdyn,envs,config,give_trajectory=True,give_replans=True)\n",
    "        # pads trajectory samples to 512\n",
    "        new_trajectory_samples = []\n",
    "        for traj in trajectories_sample:\n",
    "                new_traj = np.pad(traj,((0,501-traj.shape[0]),(0,0),(0,0)),mode='edge')\n",
    "                #print(new_traj.shape)\n",
    "                new_trajectory_samples.append(new_traj)\n",
    "        avg_completion += avg_completion_sample\n",
    "        trajectories += new_trajectory_samples\n",
    "avg_completion = avg_completion / num_samples\n",
    "print('Avg. Completion:',avg_completion)\n",
    "\n",
    "if visualize:\n",
    "        env = GridLand(n_size=n_size,timeout = 500)\n",
    "        env.reset()\n",
    "        fig, ax = env.get_mpl_plot()\n",
    "        #print('replans',np.array(replans).shape)\n",
    "        #ax.scatter(trajectories[0][:,:,0],trajectories[0][:,:,1],c=range(len(trajectories[0])),s=5,label='Executed Trajectory')\n",
    "        if num_envs == 1:\n",
    "                ax.scatter(trajectories[0][:,:,0],trajectories[0][:,:,1],c='black',s=5,label='Executed Trajectory',alpha=0.2,zorder=100)\n",
    "        else:\n",
    "                ax.scatter(trajectories[0][:,:,0],trajectories[0][:,:,1],c='black',s=5,label='Executed Trajectory',alpha=0.05,zorder=100)\n",
    "        #ax.scatter(replans[0][0,:,0],replans[0][0,:,1],c='y',s=5,label='Plan')\n",
    "        #ax.scatter(trajectories[0][:,:,0],trajectories[0][:,:,1],c=range(len(trajectories[0])),s=5,label='Executed Trajectory')\n",
    "\n",
    "\n",
    "        if num_envs == 1:\n",
    "                if n_exec_steps != horizon:\n",
    "                        replan_colors = colormaps['plasma_r']\n",
    "                        gradient = np.linspace(0, 1, len(replans[0]))\n",
    "                        for i,replan in enumerate(replans[0]):\n",
    "                                #print(replan.shape)\n",
    "                                ax.scatter(replan[:,0],replan[:,1],color=replan_colors(gradient[i]),s=5,label='Plan' + str(i),zorder=10-i)\n",
    "                else:\n",
    "                        replan_colors = colormaps['plasma_r']\n",
    "                        gradient = np.linspace(0, 1, len(replans[0]))\n",
    "                        thingy = ax.scatter(replans[0][0][:,0],replans[0][0][:,1],c=range(len(replans[0][0][:,0])),s=5,label='Plan' + str(i),zorder=10-i)\n",
    "                        fig.colorbar(thingy)\n",
    "\n",
    "\n",
    "        #print(trajectories[0].shape)\n",
    "                visited_intersections,visited_intersection_idx = find_trajectory_keypoints(trajectories[0].reshape(trajectories[0].shape[0],2), env,tolerance=0.06)\n",
    "        #print(visited_intersections.shape)\n",
    "                ax.scatter(visited_intersections[:,0],visited_intersections[:,1],label='visited',color='red')\n",
    "        ax.legend()\n",
    "traj_visitations = []\n",
    "trajectories = np.array(trajectories)\n",
    "trajectories = np.transpose(trajectories,(0,2,1,3))\n",
    "#print(trajectories.shape)\n",
    "for ep in trajectories:\n",
    "        for trajectory in ep:\n",
    "                #print(trajectory.shape)\n",
    "                visited_intersections, visited_intersections_idx = find_trajectory_keypoints(trajectory,env)\n",
    "                traj_visitations.append(visited_intersections_idx)\n",
    "generated_trajectory_visitations = get_trajectory_sets(traj_visitations)\n",
    "filtered_trajectories = filter_successful_trajectories(generated_trajectory_visitations,goals=(5,0))\n",
    "print(len(filtered_trajectories))\n",
    "print('# of Unique Generated Trajectories:',len(filtered_trajectories))\n",
    "print('# of New Generated Trajectories:', len(filtered_trajectories-training_trajectory_visitations))\n",
    "print('% of Generated Trajectories Novel:', len(filtered_trajectories-training_trajectory_visitations)/len(filtered_trajectories))\n",
    "#training_trajectory_visitations\n"
   ]
  },
  {
   "cell_type": "code",
   "execution_count": 36,
   "id": "2d5fab18",
   "metadata": {},
   "outputs": [
    {
     "name": "stdout",
     "output_type": "stream",
     "text": [
      "==== Unconditional EqNet Small Kernels ====\n",
      "Name: <GridLand instance>\n",
      "Obs Space: 2\n",
      "Act Space: 2\n",
      "==== Running Eval ====\n"
     ]
    },
    {
     "name": "stderr",
     "output_type": "stream",
     "text": [
      "100%|██████████| 1/1 [00:04<00:00,  4.85s/it]\n",
      "100%|██████████| 1/1 [00:05<00:00,  5.16s/it]\n",
      "100%|██████████| 1/1 [00:06<00:00,  6.88s/it]\n",
      "100%|██████████| 1/1 [00:04<00:00,  4.99s/it]\n",
      "100%|██████████| 1/1 [00:04<00:00,  4.84s/it]\n",
      "100%|██████████| 1/1 [00:04<00:00,  4.88s/it]\n",
      "100%|██████████| 1/1 [00:04<00:00,  4.81s/it]\n",
      "100%|██████████| 1/1 [00:05<00:00,  5.11s/it]\n"
     ]
    },
    {
     "name": "stdout",
     "output_type": "stream",
     "text": [
      "Avg. Completion: 0.52875\n",
      "192\n",
      "# of Unique Generated Trajectories: 192\n",
      "# of New Generated Trajectories: 160\n",
      "% of Generated Trajectories Novel: 0.8333333333333334\n"
     ]
    }
   ],
   "source": [
    "### eval for position equivaraint mode, small kernels (KER=12)\n",
    "config = DiffusionPlannerConfig()\n",
    "config.memory = memory\n",
    "config.horizon = horizon\n",
    "config.num_envs = num_envs\n",
    "config.num_episodes = num_episodes\n",
    "config.n_exec_steps = n_exec_steps\n",
    "config.env = env\n",
    "config.inpaint = False\n",
    "config.gridland = True\n",
    "config.n_size = n_size\n",
    "config.pad = False\n",
    "config.gen_horizon = horizon\n",
    "config.toy_env = True\n",
    "config.open_loop_invdyn = False\n",
    "config.use_shift_equivariant_arch = True\n",
    "config.add_positional_encoding = False\n",
    "config.kernel_expansion_rate = 12\n",
    "\n",
    "# loads environment\n",
    "envs = make_envs_and_datasets_gridland(n_size=config.n_size,num_envs = config.num_envs,env_only=True)\n",
    "obs_dim, act_dim = envs.single_observation_space.shape[0], envs.single_action_space.shape[0]\n",
    "\n",
    "# loads inverse dynamics\n",
    "invdyn = ToyEnvInvDyn()\n",
    "#invdyn.load(config.invdyn_path)\n",
    "\n",
    "# loads agent \n",
    "# --------------- Network Architecture -----------------# \n",
    "#nn_diffusion = JannerUNet1dShiftEq(obs_dim)\n",
    "#nn_diffusion = ConvNext1dShiftEq(obs_dim)\n",
    "nn_diffusion = CNN1dShiftEq(obs_dim,\n",
    "                                    kernel_expansion_rate=config.kernel_expansion_rate,\n",
    "                                    model_dim = config.model_dim,\n",
    "                                    emb_dim = config.emb_dim,\n",
    "                                    encode_position=config.add_positional_encoding)\n",
    "\n",
    "\n",
    "# ----------------- Masking -------------------\n",
    "# NOTE - not sure what any of this does (should figure out!)\n",
    "fix_mask = torch.zeros((config.horizon, obs_dim)) \n",
    "fix_mask[0, :] = 1. # for the starting/current state\n",
    "loss_weight = torch.ones((config.horizon, obs_dim))\n",
    "\n",
    "# --------------- difuse --------------------\n",
    "agent = DiscreteDiffusionSDE(\n",
    "        nn_diffusion, None,\n",
    "        fix_mask=fix_mask, loss_weight=loss_weight, classifier=None, ema_rate=config.ema_rate,\n",
    "        device=config.device, diffusion_steps=config.diffusion_steps, predict_noise=config.predict_noise)\n",
    "\n",
    "\n",
    "agent.load('appendix_models/DP-EqNet-KS-gridland-n5-6d8809c9diffusion_ckpt_latest.pt')\n",
    "\n",
    "#agent.load('paper_models/DP-EqNet-PosEnc-gridland-n5-1c240542diffusion_ckpt_latest.pt')\n",
    "\n",
    "# Environment info \n",
    "print('==== Unconditional EqNet Small Kernels ====')\n",
    "print('Name:',config.env)\n",
    "print('Obs Space:',obs_dim)\n",
    "print('Act Space:',act_dim)\n",
    "# main evaluation loop\n",
    "print('==== Running Eval ====')\n",
    "avg_completion = 0\n",
    "trajectories = []\n",
    "for i in range(num_samples):\n",
    "        envs.reset()\n",
    "        avg_completion_sample,trajectories_sample, replans = diffusion_planer_eval(agent,invdyn,envs,config,give_trajectory=True,give_replans=True)\n",
    "        # pads trajectory samples to 512\n",
    "        new_trajectory_samples = []\n",
    "        for traj in trajectories_sample:\n",
    "                new_traj = np.pad(traj,((0,501-traj.shape[0]),(0,0),(0,0)),mode='edge')\n",
    "                #print(new_traj.shape)\n",
    "                new_trajectory_samples.append(new_traj)\n",
    "        avg_completion += avg_completion_sample\n",
    "        trajectories += new_trajectory_samples\n",
    "avg_completion = avg_completion / num_samples\n",
    "print('Avg. Completion:',avg_completion)\n",
    "\n",
    "if visualize:\n",
    "        env = GridLand(n_size=n_size,timeout = 500)\n",
    "        env.reset()\n",
    "        fig, ax = env.get_mpl_plot()\n",
    "        #print('replans',np.array(replans).shape)\n",
    "        #ax.scatter(trajectories[0][:,:,0],trajectories[0][:,:,1],c=range(len(trajectories[0])),s=5,label='Executed Trajectory')\n",
    "        if num_envs == 1:\n",
    "                ax.scatter(trajectories[0][:,:,0],trajectories[0][:,:,1],c='black',s=5,label='Executed Trajectory',alpha=0.2,zorder=100)\n",
    "        else:\n",
    "                ax.scatter(trajectories[0][:,:,0],trajectories[0][:,:,1],c='black',s=5,label='Executed Trajectory',alpha=0.05,zorder=100)\n",
    "        #ax.scatter(replans[0][0,:,0],replans[0][0,:,1],c='y',s=5,label='Plan')\n",
    "        #ax.scatter(trajectories[0][:,:,0],trajectories[0][:,:,1],c=range(len(trajectories[0])),s=5,label='Executed Trajectory')\n",
    "\n",
    "\n",
    "        if num_envs == 1:\n",
    "                if n_exec_steps != horizon:\n",
    "                        replan_colors = colormaps['plasma_r']\n",
    "                        gradient = np.linspace(0, 1, len(replans[0]))\n",
    "                        for i,replan in enumerate(replans[0]):\n",
    "                                #print(replan.shape)\n",
    "                                ax.scatter(replan[:,0],replan[:,1],color=replan_colors(gradient[i]),s=5,label='Plan' + str(i),zorder=10-i)\n",
    "                else:\n",
    "                        replan_colors = colormaps['plasma_r']\n",
    "                        gradient = np.linspace(0, 1, len(replans[0]))\n",
    "                        thingy = ax.scatter(replans[0][0][:,0],replans[0][0][:,1],c=range(len(replans[0][0][:,0])),s=5,label='Plan' + str(i),zorder=10-i)\n",
    "                        fig.colorbar(thingy)\n",
    "\n",
    "\n",
    "        #print(trajectories[0].shape)\n",
    "                visited_intersections,visited_intersection_idx = find_trajectory_keypoints(trajectories[0].reshape(trajectories[0].shape[0],2), env,tolerance=0.06)\n",
    "        #print(visited_intersections.shape)\n",
    "                ax.scatter(visited_intersections[:,0],visited_intersections[:,1],label='visited',color='red')\n",
    "        ax.legend()\n",
    "traj_visitations = []\n",
    "trajectories = np.array(trajectories)\n",
    "trajectories = np.transpose(trajectories,(0,2,1,3))\n",
    "#print(trajectories.shape)\n",
    "for ep in trajectories:\n",
    "        for trajectory in ep:\n",
    "                #print(trajectory.shape)\n",
    "                visited_intersections, visited_intersections_idx = find_trajectory_keypoints(trajectory,env)\n",
    "                traj_visitations.append(visited_intersections_idx)\n",
    "generated_trajectory_visitations = get_trajectory_sets(traj_visitations)\n",
    "filtered_trajectories = filter_successful_trajectories(generated_trajectory_visitations,goals=(5,0))\n",
    "print(len(filtered_trajectories))\n",
    "print('# of Unique Generated Trajectories:',len(filtered_trajectories))\n",
    "print('# of New Generated Trajectories:', len(filtered_trajectories-training_trajectory_visitations))\n",
    "print('% of Generated Trajectories Novel:', len(filtered_trajectories-training_trajectory_visitations)/len(filtered_trajectories))\n",
    "#training_trajectory_visitations\n"
   ]
  }
 ],
 "metadata": {
  "kernelspec": {
   "display_name": "gen_stitch",
   "language": "python",
   "name": "python3"
  },
  "language_info": {
   "codemirror_mode": {
    "name": "ipython",
    "version": 3
   },
   "file_extension": ".py",
   "mimetype": "text/x-python",
   "name": "python",
   "nbconvert_exporter": "python",
   "pygments_lexer": "ipython3",
   "version": "3.9.18"
  }
 },
 "nbformat": 4,
 "nbformat_minor": 5
}
